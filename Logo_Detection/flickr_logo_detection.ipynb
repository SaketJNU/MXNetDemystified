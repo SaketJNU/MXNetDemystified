{
 "cells": [
  {
   "cell_type": "markdown",
   "metadata": {},
   "source": [
    "# Import Libraries"
   ]
  },
  {
   "cell_type": "code",
   "execution_count": 1,
   "metadata": {},
   "outputs": [],
   "source": [
    "import mxnet as mx\n",
    "import matplotlib.pyplot as plt\n",
    "%matplotlib inline\n",
    "import requests\n",
    "import tarfile\n",
    "from PIL import Image\n",
    "from pathlib import Path\n",
    "import os, urllib\n",
    "import urllib.request\n",
    "import numpy as np\n",
    "import pandas as pd\n",
    "import time\n",
    "import cv2\n",
    "import numpy as np\n",
    "from collections import namedtuple\n",
    "from skimage.color import rgba2rgb\n",
    "import skimage.io as io\n",
    "import mxnet.autograd as autograd\n",
    "import mxnet.gluon as gluon\n",
    "from mxnet.image import color_normalize"
   ]
  },
  {
   "cell_type": "markdown",
   "metadata": {},
   "source": [
    "# Get the Flikr Data and Unzip it"
   ]
  },
  {
   "cell_type": "code",
   "execution_count": 2,
   "metadata": {},
   "outputs": [],
   "source": [
    "%%capture\n",
    "!wget -nc <url from flickr>\n",
    "!unzip -n ./FlickrLogos-32_dataset_v2.zip "
   ]
  },
  {
   "cell_type": "markdown",
   "metadata": {},
   "source": [
    "# Home Directory for the Data"
   ]
  },
  {
   "cell_type": "code",
   "execution_count": 3,
   "metadata": {},
   "outputs": [],
   "source": [
    "data_directory = \"./FlickrLogos-v2/\""
   ]
  },
  {
   "cell_type": "markdown",
   "metadata": {},
   "source": [
    "# Load the files containing the filenames for Train, Validation and Test"
   ]
  },
  {
   "cell_type": "code",
   "execution_count": 4,
   "metadata": {},
   "outputs": [],
   "source": [
    "train_list_filename = data_directory+\"trainset.relpaths.txt\"\n",
    "val_list_filename = data_directory+\"valset.relpaths.txt\"\n",
    "test_list_filename = data_directory+\"testset.relpaths.txt\""
   ]
  },
  {
   "cell_type": "markdown",
   "metadata": {},
   "source": [
    "# Segregate the filenames for Train, Validation and Test"
   ]
  },
  {
   "cell_type": "code",
   "execution_count": 5,
   "metadata": {},
   "outputs": [
    {
     "name": "stdout",
     "output_type": "stream",
     "text": [
      "Number of Training Images :  320\n",
      "Number of Validation Images :  3960\n",
      "Number of Testing Images :  3960\n"
     ]
    }
   ],
   "source": [
    "with open(train_list_filename) as f:\n",
    "    train_filenames = f.read().splitlines()\n",
    "    \n",
    "with open(val_list_filename) as f:\n",
    "    val_filenames = f.read().splitlines()\n",
    "    \n",
    "with open(test_list_filename) as f:\n",
    "    test_filenames = f.read().splitlines()\n",
    "    \n",
    "    \n",
    "print(\"Number of Training Images : \",len(train_filenames))\n",
    "print(\"Number of Validation Images : \",len(val_filenames))\n",
    "print(\"Number of Testing Images : \",len(test_filenames))"
   ]
  },
  {
   "cell_type": "markdown",
   "metadata": {},
   "source": [
    "# Function defined for getting the masked Image (no masking is done now)"
   ]
  },
  {
   "cell_type": "code",
   "execution_count": 6,
   "metadata": {},
   "outputs": [],
   "source": [
    "is_mask = False\n",
    "\n",
    "def create_masked_images(base_directory,filenames,dest_folder_name):\n",
    "    for filename in filenames:\n",
    "        image_filepath = base_directory+filename\n",
    "        image = mx.image.imdecode(open(image_filepath, 'rb').read())\n",
    "        mask_filepath = base_directory+filename.replace('/jpg/','/masks/')+'.mask.merged.png'\n",
    "        if is_mask and os.path.exists(mask_filepath):\n",
    "            mask = mx.image.imdecode(open(mask_filepath, 'rb').read())\n",
    "            masked_image = image * (mask>100)\n",
    "        else:\n",
    "            masked_image = image \n",
    "        dest_path = image_filepath.replace('classes/jpg',dest_folder_name).replace('no-logo','z-no-logo')\n",
    "        directory_path = Path(os.path.dirname(dest_path))\n",
    "        directory_path.mkdir(parents=True,exist_ok=True)\n",
    "        im = Image.fromarray(masked_image.asnumpy())\n",
    "        im.save(dest_path)"
   ]
  },
  {
   "cell_type": "markdown",
   "metadata": {},
   "source": [
    "# Separate folders are created for Train Validation and Test and corresponding data after masking the images are stored"
   ]
  },
  {
   "cell_type": "code",
   "execution_count": 7,
   "metadata": {},
   "outputs": [],
   "source": [
    "create_masked_images(base_directory=data_directory,filenames=train_filenames,dest_folder_name='train_data')\n",
    "create_masked_images(base_directory=data_directory,filenames=val_filenames,dest_folder_name='val_data')\n",
    "create_masked_images(base_directory=data_directory,filenames=test_filenames,dest_folder_name='test_data')"
   ]
  },
  {
   "cell_type": "markdown",
   "metadata": {},
   "source": [
    "# Lets see the $Location$ where the mxnet source code is stored by pip3"
   ]
  },
  {
   "cell_type": "code",
   "execution_count": 8,
   "metadata": {},
   "outputs": [
    {
     "name": "stdout",
     "output_type": "stream",
     "text": [
      "Name: mxnet-cu80\r\n",
      "Version: 0.12.0\r\n",
      "Summary: MXNet is an ultra-scalable deep learning framework. This version uses CUDA-8.0.\r\n",
      "Home-page: https://github.com/dmlc/mxnet\r\n",
      "Author: UNKNOWN\r\n",
      "Author-email: UNKNOWN\r\n",
      "License: Apache 2.0\r\n",
      "Location: /usr/local/lib/python3.5/dist-packages\r\n",
      "Requires: requests, graphviz, numpy\r\n"
     ]
    }
   ],
   "source": [
    "!pip3 show mxnet-cu80\n",
    "#!pip3 show mxnet"
   ]
  },
  {
   "cell_type": "markdown",
   "metadata": {},
   "source": [
    "# Define $MXNET\\_HOME = Location + \"/mxnet\"$"
   ]
  },
  {
   "cell_type": "code",
   "execution_count": 9,
   "metadata": {},
   "outputs": [],
   "source": [
    "import os\n",
    "MXNET_HOME = \"/usr/local/lib/python3.5/dist-packages/mxnet\"\n",
    "#MXNET_HOME = \"/Library/Frameworks/Python.framework/Versions/3.6/lib/python3.6/site-packages/mxnet\""
   ]
  },
  {
   "cell_type": "markdown",
   "metadata": {},
   "source": [
    "# Using $MXNET\\_HOME/tools/im2rec.py$ Convert Train, Validation and Test Folders containing images into $.rec$ files"
   ]
  },
  {
   "cell_type": "code",
   "execution_count": 10,
   "metadata": {},
   "outputs": [
    {
     "data": {
      "text/plain": [
       "0"
      ]
     },
     "execution_count": 10,
     "metadata": {},
     "output_type": "execute_result"
    }
   ],
   "source": [
    "os.system('python3 %s/tools/im2rec.py --list=1 --recursive=1 --shuffle=1 ./FlickrLogos-v2/train ./FlickrLogos-v2/train_data'%MXNET_HOME)\n",
    "os.system('python3 %s/tools/im2rec.py --num-thread 16 ./FlickrLogos-v2/train ./FlickrLogos-v2/train_data'%MXNET_HOME)\n",
    "\n",
    "os.system('python3 %s/tools/im2rec.py --list=1 --recursive=1 --shuffle=1 ./FlickrLogos-v2/val ./FlickrLogos-v2/val_data'%MXNET_HOME)\n",
    "os.system('python3 %s/tools/im2rec.py --num-thread 16 ./FlickrLogos-v2/val ./FlickrLogos-v2/val_data'%MXNET_HOME)\n",
    "\n",
    "os.system('python3 %s/tools/im2rec.py --list=1 --recursive=1 --shuffle=1 ./FlickrLogos-v2/test ./FlickrLogos-v2/test_data'%MXNET_HOME)\n",
    "os.system('python3 %s/tools/im2rec.py --num-thread 16 ./FlickrLogos-v2/test ./FlickrLogos-v2/test_data'%MXNET_HOME)"
   ]
  },
  {
   "cell_type": "markdown",
   "metadata": {},
   "source": [
    "# Lets Generate the Label Indexer Mapping from the generated $train.lst$"
   ]
  },
  {
   "cell_type": "code",
   "execution_count": 11,
   "metadata": {},
   "outputs": [
    {
     "name": "stdout",
     "output_type": "stream",
     "text": [
      "{0: 'HP', 1: 'adidas', 2: 'aldi', 3: 'apple', 4: 'becks', 5: 'bmw', 6: 'carlsberg', 7: 'chimay', 8: 'cocacola', 9: 'corona', 10: 'dhl', 11: 'erdinger', 12: 'esso', 13: 'fedex', 14: 'ferrari', 15: 'ford', 16: 'fosters', 17: 'google', 18: 'guiness', 19: 'heineken', 20: 'milka', 21: 'nvidia', 22: 'paulaner', 23: 'pepsi', 24: 'rittersport', 25: 'shell', 26: 'singha', 27: 'starbucks', 28: 'stellaartois', 29: 'texaco', 30: 'tsingtao', 31: 'ups'}\n"
     ]
    }
   ],
   "source": [
    "df = pd.read_csv(data_directory+\"train.lst\",sep='\\t',names=['_1','index','path'])\n",
    "df['label'] = df.apply(lambda row: row['path'].split('/')[0],axis=1)\n",
    "unique_df = df[['index','label']].drop_duplicates()\n",
    "unique_df['index'] = unique_df['index'].astype(np.int8)\n",
    "unique_df.set_index('index',inplace=True)\n",
    "label_indexer_dict = unique_df.to_dict()['label']\n",
    "print(label_indexer_dict)"
   ]
  },
  {
   "cell_type": "markdown",
   "metadata": {},
   "source": [
    "# Lets define some utility functions"
   ]
  },
  {
   "cell_type": "markdown",
   "metadata": {},
   "source": [
    "### Lets define the function for mapping the indices back to actual labels"
   ]
  },
  {
   "cell_type": "code",
   "execution_count": 12,
   "metadata": {},
   "outputs": [],
   "source": [
    "def index_to_label(a):\n",
    "        return [label_indexer_dict[label_index] if label_index!=32 else 'no-logo' for label_index in a]\n",
    "def get_predicted_label(predicted_label_index):\n",
    "    predicted_label = np.ma.apply_along_axis(index_to_label, 1, predicted_label_index)\n",
    "    return predicted_label"
   ]
  },
  {
   "cell_type": "markdown",
   "metadata": {},
   "source": [
    "### Lets define a function to get the top n prediction with $threshold = 0.5$"
   ]
  },
  {
   "cell_type": "code",
   "execution_count": 13,
   "metadata": {},
   "outputs": [],
   "source": [
    "def get_top_n_label_index_prediction(prob_nparray,n,threshold=0.5):\n",
    "    x = prob_nparray<threshold\n",
    "    prob_nparray[x] = 0\n",
    "\n",
    "    def get_top_n_label_index(a,n):\n",
    "        array = np.argsort(a)[a.shape[0]-n:]\n",
    "        non_zero_count = np.count_nonzero(a)\n",
    "        if non_zero_count > n:\n",
    "            zero_count = 0\n",
    "        else:\n",
    "            zero_count = n - non_zero_count        \n",
    "        for i in range(zero_count):\n",
    "            array[i] = 32\n",
    "        return array\n",
    "\n",
    "    top_n_prediction = np.apply_along_axis(get_top_n_label_index, 1, prob_nparray,n)\n",
    "    return top_n_prediction"
   ]
  },
  {
   "cell_type": "markdown",
   "metadata": {},
   "source": [
    "### Lets define accuracy calculation "
   ]
  },
  {
   "cell_type": "code",
   "execution_count": 14,
   "metadata": {},
   "outputs": [],
   "source": [
    "def calculate_accuracy(actual_label,predicted_label):\n",
    "    ll = np.column_stack((actual_label,predicted_label))\n",
    "    def is_present(a):\n",
    "        if a[0] in a[1:]:\n",
    "            return 1\n",
    "        else:\n",
    "            return 0\n",
    "    zz = np.apply_along_axis(is_present, 1, ll)\n",
    "    return zz.mean()"
   ]
  },
  {
   "cell_type": "markdown",
   "metadata": {},
   "source": [
    "# Function for getting ImageRecordIter for Train Validation and Test Data"
   ]
  },
  {
   "cell_type": "code",
   "execution_count": 15,
   "metadata": {},
   "outputs": [],
   "source": [
    "def get_iterators(batch_size, data_shape):\n",
    "    train = mx.io.ImageRecordIter(\n",
    "        path_imgrec         = './FlickrLogos-v2/train.rec',\n",
    "        data_name           = 'data',\n",
    "        label_name          = 'softmax_label',\n",
    "        batch_size          = batch_size,\n",
    "        data_shape          = data_shape,\n",
    "        shuffle             = True,\n",
    "        rand_crop           = True,\n",
    "        rand_mirror         = True)\n",
    "    val = mx.io.ImageRecordIter(\n",
    "        path_imgrec         = './FlickrLogos-v2/val.rec',\n",
    "        data_name           = 'data',\n",
    "        label_name          = 'softmax_label',\n",
    "        batch_size          = batch_size,\n",
    "        data_shape          = data_shape,\n",
    "        rand_crop           = False,\n",
    "        rand_mirror         = False)\n",
    "    test = mx.io.ImageRecordIter(\n",
    "        path_imgrec         = './FlickrLogos-v2/test.rec',\n",
    "        data_name           = 'data',\n",
    "        label_name          = 'softmax_label',\n",
    "        batch_size          = batch_size,\n",
    "        data_shape          = data_shape,\n",
    "        rand_crop           = False,\n",
    "        rand_mirror         = False)\n",
    "    return (train, val,test)"
   ]
  },
  {
   "cell_type": "markdown",
   "metadata": {},
   "source": [
    "# Define the constants"
   ]
  },
  {
   "cell_type": "code",
   "execution_count": 16,
   "metadata": {},
   "outputs": [],
   "source": [
    "batch_size= 40\n",
    "num_classes = 32\n",
    "num_gpu = 1\n",
    "batch_per_gpu = 40\n",
    "num_epochs = 8\n",
    "contexts = [mx.gpu(i) for i in range(num_gpu)]"
   ]
  },
  {
   "cell_type": "markdown",
   "metadata": {},
   "source": [
    "# Load the data for Train Validation and Test"
   ]
  },
  {
   "cell_type": "code",
   "execution_count": 17,
   "metadata": {},
   "outputs": [],
   "source": [
    "(train_iter, val_iter,test_iter) = get_iterators(batch_size=batch_size,data_shape=(3,64,64))"
   ]
  },
  {
   "cell_type": "markdown",
   "metadata": {},
   "source": [
    "# Lets keep the ground truth for the Test Data handy for future calculations"
   ]
  },
  {
   "cell_type": "code",
   "execution_count": 18,
   "metadata": {
    "scrolled": true
   },
   "outputs": [
    {
     "name": "stdout",
     "output_type": "stream",
     "text": [
      "['shell' 'shell' 'no-logo' ..., 'no-logo' 'no-logo' 'heineken']\n",
      "3960\n"
     ]
    }
   ],
   "source": [
    "result_array = np.array([])\n",
    "for i in range(99):\n",
    "    result_array = np.append(result_array, test_iter.next().label[0].asnumpy())\n",
    "test_label = np.apply_along_axis(index_to_label, -1, result_array)\n",
    "print(test_label)\n",
    "print(len(test_label))\n",
    "test_iter.reset()"
   ]
  },
  {
   "cell_type": "markdown",
   "metadata": {},
   "source": [
    "# Define the MLP Model"
   ]
  },
  {
   "cell_type": "code",
   "execution_count": 19,
   "metadata": {},
   "outputs": [],
   "source": [
    "data = mx.sym.var('data')\n",
    "data = mx.sym.flatten(data=data)\n",
    "\n",
    "fc1  = mx.sym.FullyConnected(data=data, num_hidden=128)\n",
    "act1 = mx.sym.Activation(data=fc1, act_type=\"relu\")\n",
    "\n",
    "fc2  = mx.sym.FullyConnected(data=act1, num_hidden = 64)\n",
    "act2 = mx.sym.Activation(data=fc2, act_type=\"relu\")\n",
    "\n",
    "fc3  = mx.sym.FullyConnected(data=act2, num_hidden=num_classes)\n",
    "\n",
    "mlp  = mx.sym.SoftmaxOutput(data=fc3, name='softmax')"
   ]
  },
  {
   "cell_type": "markdown",
   "metadata": {},
   "source": [
    "# Visualize the MLP Model"
   ]
  },
  {
   "cell_type": "code",
   "execution_count": 20,
   "metadata": {},
   "outputs": [
    {
     "data": {
      "image/svg+xml": [
       "<?xml version=\"1.0\" encoding=\"UTF-8\" standalone=\"no\"?>\n",
       "<!DOCTYPE svg PUBLIC \"-//W3C//DTD SVG 1.1//EN\"\n",
       " \"http://www.w3.org/Graphics/SVG/1.1/DTD/svg11.dtd\">\n",
       "<!-- Generated by graphviz version 2.38.0 (20140413.2041)\n",
       " -->\n",
       "<!-- Title: plot Pages: 1 -->\n",
       "<svg width=\"214pt\" height=\"724pt\"\n",
       " viewBox=\"0.00 0.00 214.00 724.00\" xmlns=\"http://www.w3.org/2000/svg\" xmlns:xlink=\"http://www.w3.org/1999/xlink\">\n",
       "<g id=\"graph0\" class=\"graph\" transform=\"scale(1 1) rotate(0) translate(4 720)\">\n",
       "<title>plot</title>\n",
       "<polygon fill=\"white\" stroke=\"none\" points=\"-4,4 -4,-720 210,-720 210,4 -4,4\"/>\n",
       "<!-- data -->\n",
       "<g id=\"node1\" class=\"node\"><title>data</title>\n",
       "<ellipse fill=\"#8dd3c7\" stroke=\"black\" cx=\"47\" cy=\"-29\" rx=\"47\" ry=\"29\"/>\n",
       "<text text-anchor=\"middle\" x=\"47\" y=\"-25.3\" font-family=\"Times,serif\" font-size=\"14.00\">data</text>\n",
       "</g>\n",
       "<!-- flatten0 -->\n",
       "<g id=\"node2\" class=\"node\"><title>flatten0</title>\n",
       "<polygon fill=\"#fdb462\" stroke=\"black\" points=\"94,-152 -7.10543e-15,-152 -7.10543e-15,-94 94,-94 94,-152\"/>\n",
       "<text text-anchor=\"middle\" x=\"47\" y=\"-119.3\" font-family=\"Times,serif\" font-size=\"14.00\">flatten0</text>\n",
       "</g>\n",
       "<!-- flatten0&#45;&gt;data -->\n",
       "<g id=\"edge1\" class=\"edge\"><title>flatten0&#45;&gt;data</title>\n",
       "<path fill=\"none\" stroke=\"black\" d=\"M47,-83.7443C47,-75.2043 47,-66.2977 47,-58.2479\"/>\n",
       "<polygon fill=\"black\" stroke=\"black\" points=\"47,-93.8971 42.5001,-83.897 47,-88.8971 47.0001,-83.8971 47.0001,-83.8971 47.0001,-83.8971 47,-88.8971 51.5001,-83.8971 47,-93.8971 47,-93.8971\"/>\n",
       "</g>\n",
       "<!-- fullyconnected0 -->\n",
       "<g id=\"node3\" class=\"node\"><title>fullyconnected0</title>\n",
       "<polygon fill=\"#fb8072\" stroke=\"black\" points=\"94,-246 -7.10543e-15,-246 -7.10543e-15,-188 94,-188 94,-246\"/>\n",
       "<text text-anchor=\"middle\" x=\"47\" y=\"-220.8\" font-family=\"Times,serif\" font-size=\"14.00\">FullyConnected</text>\n",
       "<text text-anchor=\"middle\" x=\"47\" y=\"-205.8\" font-family=\"Times,serif\" font-size=\"14.00\">128</text>\n",
       "</g>\n",
       "<!-- fullyconnected0&#45;&gt;flatten0 -->\n",
       "<g id=\"edge2\" class=\"edge\"><title>fullyconnected0&#45;&gt;flatten0</title>\n",
       "<path fill=\"none\" stroke=\"black\" d=\"M47,-177.744C47,-169.204 47,-160.298 47,-152.248\"/>\n",
       "<polygon fill=\"black\" stroke=\"black\" points=\"47,-187.897 42.5001,-177.897 47,-182.897 47.0001,-177.897 47.0001,-177.897 47.0001,-177.897 47,-182.897 51.5001,-177.897 47,-187.897 47,-187.897\"/>\n",
       "</g>\n",
       "<!-- activation0 -->\n",
       "<g id=\"node4\" class=\"node\"><title>activation0</title>\n",
       "<polygon fill=\"#ffffb3\" stroke=\"black\" points=\"94,-340 -7.10543e-15,-340 -7.10543e-15,-282 94,-282 94,-340\"/>\n",
       "<text text-anchor=\"middle\" x=\"47\" y=\"-314.8\" font-family=\"Times,serif\" font-size=\"14.00\">Activation</text>\n",
       "<text text-anchor=\"middle\" x=\"47\" y=\"-299.8\" font-family=\"Times,serif\" font-size=\"14.00\">relu</text>\n",
       "</g>\n",
       "<!-- activation0&#45;&gt;fullyconnected0 -->\n",
       "<g id=\"edge3\" class=\"edge\"><title>activation0&#45;&gt;fullyconnected0</title>\n",
       "<path fill=\"none\" stroke=\"black\" d=\"M47,-271.744C47,-263.204 47,-254.298 47,-246.248\"/>\n",
       "<polygon fill=\"black\" stroke=\"black\" points=\"47,-281.897 42.5001,-271.897 47,-276.897 47.0001,-271.897 47.0001,-271.897 47.0001,-271.897 47,-276.897 51.5001,-271.897 47,-281.897 47,-281.897\"/>\n",
       "</g>\n",
       "<!-- fullyconnected1 -->\n",
       "<g id=\"node5\" class=\"node\"><title>fullyconnected1</title>\n",
       "<polygon fill=\"#fb8072\" stroke=\"black\" points=\"94,-434 -7.10543e-15,-434 -7.10543e-15,-376 94,-376 94,-434\"/>\n",
       "<text text-anchor=\"middle\" x=\"47\" y=\"-408.8\" font-family=\"Times,serif\" font-size=\"14.00\">FullyConnected</text>\n",
       "<text text-anchor=\"middle\" x=\"47\" y=\"-393.8\" font-family=\"Times,serif\" font-size=\"14.00\">64</text>\n",
       "</g>\n",
       "<!-- fullyconnected1&#45;&gt;activation0 -->\n",
       "<g id=\"edge4\" class=\"edge\"><title>fullyconnected1&#45;&gt;activation0</title>\n",
       "<path fill=\"none\" stroke=\"black\" d=\"M47,-365.744C47,-357.204 47,-348.298 47,-340.248\"/>\n",
       "<polygon fill=\"black\" stroke=\"black\" points=\"47,-375.897 42.5001,-365.897 47,-370.897 47.0001,-365.897 47.0001,-365.897 47.0001,-365.897 47,-370.897 51.5001,-365.897 47,-375.897 47,-375.897\"/>\n",
       "</g>\n",
       "<!-- activation1 -->\n",
       "<g id=\"node6\" class=\"node\"><title>activation1</title>\n",
       "<polygon fill=\"#ffffb3\" stroke=\"black\" points=\"94,-528 -7.10543e-15,-528 -7.10543e-15,-470 94,-470 94,-528\"/>\n",
       "<text text-anchor=\"middle\" x=\"47\" y=\"-502.8\" font-family=\"Times,serif\" font-size=\"14.00\">Activation</text>\n",
       "<text text-anchor=\"middle\" x=\"47\" y=\"-487.8\" font-family=\"Times,serif\" font-size=\"14.00\">relu</text>\n",
       "</g>\n",
       "<!-- activation1&#45;&gt;fullyconnected1 -->\n",
       "<g id=\"edge5\" class=\"edge\"><title>activation1&#45;&gt;fullyconnected1</title>\n",
       "<path fill=\"none\" stroke=\"black\" d=\"M47,-459.744C47,-451.204 47,-442.298 47,-434.248\"/>\n",
       "<polygon fill=\"black\" stroke=\"black\" points=\"47,-469.897 42.5001,-459.897 47,-464.897 47.0001,-459.897 47.0001,-459.897 47.0001,-459.897 47,-464.897 51.5001,-459.897 47,-469.897 47,-469.897\"/>\n",
       "</g>\n",
       "<!-- fullyconnected2 -->\n",
       "<g id=\"node7\" class=\"node\"><title>fullyconnected2</title>\n",
       "<polygon fill=\"#fb8072\" stroke=\"black\" points=\"94,-622 -7.10543e-15,-622 -7.10543e-15,-564 94,-564 94,-622\"/>\n",
       "<text text-anchor=\"middle\" x=\"47\" y=\"-596.8\" font-family=\"Times,serif\" font-size=\"14.00\">FullyConnected</text>\n",
       "<text text-anchor=\"middle\" x=\"47\" y=\"-581.8\" font-family=\"Times,serif\" font-size=\"14.00\">32</text>\n",
       "</g>\n",
       "<!-- fullyconnected2&#45;&gt;activation1 -->\n",
       "<g id=\"edge6\" class=\"edge\"><title>fullyconnected2&#45;&gt;activation1</title>\n",
       "<path fill=\"none\" stroke=\"black\" d=\"M47,-553.744C47,-545.204 47,-536.298 47,-528.248\"/>\n",
       "<polygon fill=\"black\" stroke=\"black\" points=\"47,-563.897 42.5001,-553.897 47,-558.897 47.0001,-553.897 47.0001,-553.897 47.0001,-553.897 47,-558.897 51.5001,-553.897 47,-563.897 47,-563.897\"/>\n",
       "</g>\n",
       "<!-- softmax_label -->\n",
       "<g id=\"node8\" class=\"node\"><title>softmax_label</title>\n",
       "<ellipse fill=\"#8dd3c7\" stroke=\"black\" cx=\"159\" cy=\"-593\" rx=\"47\" ry=\"29\"/>\n",
       "<text text-anchor=\"middle\" x=\"159\" y=\"-589.3\" font-family=\"Times,serif\" font-size=\"14.00\">softmax_label</text>\n",
       "</g>\n",
       "<!-- softmax -->\n",
       "<g id=\"node9\" class=\"node\"><title>softmax</title>\n",
       "<polygon fill=\"#fccde5\" stroke=\"black\" points=\"150,-716 56,-716 56,-658 150,-658 150,-716\"/>\n",
       "<text text-anchor=\"middle\" x=\"103\" y=\"-683.3\" font-family=\"Times,serif\" font-size=\"14.00\">softmax</text>\n",
       "</g>\n",
       "<!-- softmax&#45;&gt;fullyconnected2 -->\n",
       "<g id=\"edge7\" class=\"edge\"><title>softmax&#45;&gt;fullyconnected2</title>\n",
       "<path fill=\"none\" stroke=\"black\" d=\"M80.5686,-649.148C75.113,-640.186 69.3635,-630.74 64.1943,-622.248\"/>\n",
       "<polygon fill=\"black\" stroke=\"black\" points=\"85.8939,-657.897 76.8505,-651.695 83.2941,-653.626 80.6944,-649.355 80.6944,-649.355 80.6944,-649.355 83.2941,-653.626 84.5383,-647.015 85.8939,-657.897 85.8939,-657.897\"/>\n",
       "</g>\n",
       "<!-- softmax&#45;&gt;softmax_label -->\n",
       "<g id=\"edge8\" class=\"edge\"><title>softmax&#45;&gt;softmax_label</title>\n",
       "<path fill=\"none\" stroke=\"black\" d=\"M125.377,-649.237C131.257,-639.578 137.481,-629.353 142.955,-620.36\"/>\n",
       "<polygon fill=\"black\" stroke=\"black\" points=\"120.106,-657.897 121.462,-647.015 122.706,-653.626 125.306,-649.355 125.306,-649.355 125.306,-649.355 122.706,-653.626 129.15,-651.695 120.106,-657.897 120.106,-657.897\"/>\n",
       "</g>\n",
       "</g>\n",
       "</svg>\n"
      ],
      "text/plain": [
       "<graphviz.dot.Digraph at 0x7f020b235be0>"
      ]
     },
     "execution_count": 20,
     "metadata": {},
     "output_type": "execute_result"
    }
   ],
   "source": [
    "mx.viz.plot_network(symbol=mlp)"
   ]
  },
  {
   "cell_type": "markdown",
   "metadata": {},
   "source": [
    "# Train the MLP Model"
   ]
  },
  {
   "cell_type": "code",
   "execution_count": 21,
   "metadata": {},
   "outputs": [
    {
     "name": "stderr",
     "output_type": "stream",
     "text": [
      "INFO:root:Epoch[0] Train-accuracy=0.021875\n",
      "INFO:root:Epoch[0] Time cost=0.048\n",
      "INFO:root:Epoch[0] Validation-accuracy=0.007576\n",
      "INFO:root:Epoch[1] Train-accuracy=0.021875\n",
      "INFO:root:Epoch[1] Time cost=2.735\n",
      "INFO:root:Epoch[1] Validation-accuracy=0.010859\n",
      "INFO:root:Epoch[2] Train-accuracy=0.031250\n",
      "INFO:root:Epoch[2] Time cost=2.729\n",
      "INFO:root:Epoch[2] Validation-accuracy=0.008586\n",
      "INFO:root:Epoch[3] Train-accuracy=0.037500\n",
      "INFO:root:Epoch[3] Time cost=2.735\n",
      "INFO:root:Epoch[3] Validation-accuracy=0.007828\n",
      "INFO:root:Epoch[4] Train-accuracy=0.034375\n",
      "INFO:root:Epoch[4] Time cost=2.727\n",
      "INFO:root:Epoch[4] Validation-accuracy=0.009343\n",
      "INFO:root:Epoch[5] Train-accuracy=0.043750\n",
      "INFO:root:Epoch[5] Time cost=2.727\n",
      "INFO:root:Epoch[5] Validation-accuracy=0.007071\n",
      "INFO:root:Epoch[6] Train-accuracy=0.046875\n",
      "INFO:root:Epoch[6] Time cost=2.730\n",
      "INFO:root:Epoch[6] Validation-accuracy=0.007071\n",
      "INFO:root:Epoch[7] Train-accuracy=0.031250\n",
      "INFO:root:Epoch[7] Time cost=2.733\n",
      "INFO:root:Epoch[7] Validation-accuracy=0.007576\n"
     ]
    }
   ],
   "source": [
    "import logging\n",
    "logging.getLogger().setLevel(logging.DEBUG)  # logging to stdout\n",
    "\n",
    "mlp_model = mx.mod.Module(symbol=mlp, context=contexts)\n",
    "mlp_model.fit(train_iter,\n",
    "              eval_data=val_iter,\n",
    "              optimizer='sgd', \n",
    "              optimizer_params={'learning_rate':0.01,'momentum': 0.9},\n",
    "              eval_metric='acc',\n",
    "              num_epoch=num_epochs)"
   ]
  },
  {
   "cell_type": "markdown",
   "metadata": {},
   "source": [
    "# Test Accuracy of the MLP Model for top 3 predictions"
   ]
  },
  {
   "cell_type": "markdown",
   "metadata": {},
   "source": [
    "### Lets take the mean of the probbilities as the threshold values to choose top 3 labels"
   ]
  },
  {
   "cell_type": "code",
   "execution_count": 22,
   "metadata": {
    "scrolled": true
   },
   "outputs": [
    {
     "data": {
      "text/plain": [
       "0.022222222222222223"
      ]
     },
     "execution_count": 22,
     "metadata": {},
     "output_type": "execute_result"
    }
   ],
   "source": [
    "prob = mlp_model.predict(test_iter)\n",
    "top_3_prediction = get_top_n_label_index_prediction(prob.asnumpy(),3,threshold=prob.asnumpy().mean())\n",
    "predicted_label = get_predicted_label(top_3_prediction)\n",
    "calculate_accuracy(test_label,predicted_label)"
   ]
  },
  {
   "cell_type": "markdown",
   "metadata": {},
   "source": [
    "### Lets save the MLP Model"
   ]
  },
  {
   "cell_type": "code",
   "execution_count": 23,
   "metadata": {},
   "outputs": [
    {
     "name": "stderr",
     "output_type": "stream",
     "text": [
      "INFO:root:Saved checkpoint to \"mlp-model-0000.params\"\n"
     ]
    }
   ],
   "source": [
    "mlp_model.save_checkpoint(\"mlp-model\",0)"
   ]
  },
  {
   "cell_type": "markdown",
   "metadata": {},
   "source": [
    "# Reset the Data Iterators for Train Validation and Test"
   ]
  },
  {
   "cell_type": "code",
   "execution_count": 24,
   "metadata": {},
   "outputs": [],
   "source": [
    "train_iter.reset()\n",
    "val_iter.reset()\n",
    "test_iter.reset()"
   ]
  },
  {
   "cell_type": "markdown",
   "metadata": {},
   "source": [
    "# Define the CNN Model"
   ]
  },
  {
   "cell_type": "code",
   "execution_count": 25,
   "metadata": {},
   "outputs": [],
   "source": [
    "data = mx.sym.var('data')\n",
    "\n",
    "conv1 = mx.sym.Convolution(data=data, kernel=(5,5), num_filter=20)\n",
    "tanh1 = mx.sym.Activation(data=conv1, act_type=\"relu\")\n",
    "pool1 = mx.sym.Pooling(data=tanh1, pool_type=\"max\", kernel=(2,2), stride=(2,2))\n",
    "\n",
    "conv2 = mx.sym.Convolution(data=pool1, kernel=(5,5), num_filter=50)\n",
    "tanh2 = mx.sym.Activation(data=conv2, act_type=\"relu\")\n",
    "pool2 = mx.sym.Pooling(data=tanh2, pool_type=\"max\", kernel=(2,2), stride=(2,2))\n",
    "\n",
    "flatten = mx.sym.flatten(data=pool2)\n",
    "fc1 = mx.symbol.FullyConnected(data=flatten, num_hidden=500)\n",
    "tanh3 = mx.sym.Activation(data=fc1, act_type=\"relu\")\n",
    "\n",
    "fc2 = mx.sym.FullyConnected(data=tanh3, num_hidden=num_classes)\n",
    "\n",
    "cnn = mx.sym.SoftmaxOutput(data=fc2, name='softmax')"
   ]
  },
  {
   "cell_type": "markdown",
   "metadata": {},
   "source": [
    "# Lets Visualize the CNN Model"
   ]
  },
  {
   "cell_type": "code",
   "execution_count": 26,
   "metadata": {},
   "outputs": [
    {
     "data": {
      "image/svg+xml": [
       "<?xml version=\"1.0\" encoding=\"UTF-8\" standalone=\"no\"?>\n",
       "<!DOCTYPE svg PUBLIC \"-//W3C//DTD SVG 1.1//EN\"\n",
       " \"http://www.w3.org/Graphics/SVG/1.1/DTD/svg11.dtd\">\n",
       "<!-- Generated by graphviz version 2.38.0 (20140413.2041)\n",
       " -->\n",
       "<!-- Title: plot Pages: 1 -->\n",
       "<svg width=\"214pt\" height=\"1100pt\"\n",
       " viewBox=\"0.00 0.00 214.00 1100.00\" xmlns=\"http://www.w3.org/2000/svg\" xmlns:xlink=\"http://www.w3.org/1999/xlink\">\n",
       "<g id=\"graph0\" class=\"graph\" transform=\"scale(1 1) rotate(0) translate(4 1096)\">\n",
       "<title>plot</title>\n",
       "<polygon fill=\"white\" stroke=\"none\" points=\"-4,4 -4,-1096 210,-1096 210,4 -4,4\"/>\n",
       "<!-- data -->\n",
       "<g id=\"node1\" class=\"node\"><title>data</title>\n",
       "<ellipse fill=\"#8dd3c7\" stroke=\"black\" cx=\"47\" cy=\"-29\" rx=\"47\" ry=\"29\"/>\n",
       "<text text-anchor=\"middle\" x=\"47\" y=\"-25.3\" font-family=\"Times,serif\" font-size=\"14.00\">data</text>\n",
       "</g>\n",
       "<!-- convolution0 -->\n",
       "<g id=\"node2\" class=\"node\"><title>convolution0</title>\n",
       "<polygon fill=\"#fb8072\" stroke=\"black\" points=\"94,-152 -7.10543e-15,-152 -7.10543e-15,-94 94,-94 94,-152\"/>\n",
       "<text text-anchor=\"middle\" x=\"47\" y=\"-126.8\" font-family=\"Times,serif\" font-size=\"14.00\">Convolution</text>\n",
       "<text text-anchor=\"middle\" x=\"47\" y=\"-111.8\" font-family=\"Times,serif\" font-size=\"14.00\">5x5/1, 20</text>\n",
       "</g>\n",
       "<!-- convolution0&#45;&gt;data -->\n",
       "<g id=\"edge1\" class=\"edge\"><title>convolution0&#45;&gt;data</title>\n",
       "<path fill=\"none\" stroke=\"black\" d=\"M47,-83.7443C47,-75.2043 47,-66.2977 47,-58.2479\"/>\n",
       "<polygon fill=\"black\" stroke=\"black\" points=\"47,-93.8971 42.5001,-83.897 47,-88.8971 47.0001,-83.8971 47.0001,-83.8971 47.0001,-83.8971 47,-88.8971 51.5001,-83.8971 47,-93.8971 47,-93.8971\"/>\n",
       "</g>\n",
       "<!-- activation2 -->\n",
       "<g id=\"node3\" class=\"node\"><title>activation2</title>\n",
       "<polygon fill=\"#ffffb3\" stroke=\"black\" points=\"94,-246 -7.10543e-15,-246 -7.10543e-15,-188 94,-188 94,-246\"/>\n",
       "<text text-anchor=\"middle\" x=\"47\" y=\"-220.8\" font-family=\"Times,serif\" font-size=\"14.00\">Activation</text>\n",
       "<text text-anchor=\"middle\" x=\"47\" y=\"-205.8\" font-family=\"Times,serif\" font-size=\"14.00\">relu</text>\n",
       "</g>\n",
       "<!-- activation2&#45;&gt;convolution0 -->\n",
       "<g id=\"edge2\" class=\"edge\"><title>activation2&#45;&gt;convolution0</title>\n",
       "<path fill=\"none\" stroke=\"black\" d=\"M47,-177.744C47,-169.204 47,-160.298 47,-152.248\"/>\n",
       "<polygon fill=\"black\" stroke=\"black\" points=\"47,-187.897 42.5001,-177.897 47,-182.897 47.0001,-177.897 47.0001,-177.897 47.0001,-177.897 47,-182.897 51.5001,-177.897 47,-187.897 47,-187.897\"/>\n",
       "</g>\n",
       "<!-- pooling0 -->\n",
       "<g id=\"node4\" class=\"node\"><title>pooling0</title>\n",
       "<polygon fill=\"#80b1d3\" stroke=\"black\" points=\"94,-340 -7.10543e-15,-340 -7.10543e-15,-282 94,-282 94,-340\"/>\n",
       "<text text-anchor=\"middle\" x=\"47\" y=\"-314.8\" font-family=\"Times,serif\" font-size=\"14.00\">Pooling</text>\n",
       "<text text-anchor=\"middle\" x=\"47\" y=\"-299.8\" font-family=\"Times,serif\" font-size=\"14.00\">max, 2x2/2x2</text>\n",
       "</g>\n",
       "<!-- pooling0&#45;&gt;activation2 -->\n",
       "<g id=\"edge3\" class=\"edge\"><title>pooling0&#45;&gt;activation2</title>\n",
       "<path fill=\"none\" stroke=\"black\" d=\"M47,-271.744C47,-263.204 47,-254.298 47,-246.248\"/>\n",
       "<polygon fill=\"black\" stroke=\"black\" points=\"47,-281.897 42.5001,-271.897 47,-276.897 47.0001,-271.897 47.0001,-271.897 47.0001,-271.897 47,-276.897 51.5001,-271.897 47,-281.897 47,-281.897\"/>\n",
       "</g>\n",
       "<!-- convolution1 -->\n",
       "<g id=\"node5\" class=\"node\"><title>convolution1</title>\n",
       "<polygon fill=\"#fb8072\" stroke=\"black\" points=\"94,-434 -7.10543e-15,-434 -7.10543e-15,-376 94,-376 94,-434\"/>\n",
       "<text text-anchor=\"middle\" x=\"47\" y=\"-408.8\" font-family=\"Times,serif\" font-size=\"14.00\">Convolution</text>\n",
       "<text text-anchor=\"middle\" x=\"47\" y=\"-393.8\" font-family=\"Times,serif\" font-size=\"14.00\">5x5/1, 50</text>\n",
       "</g>\n",
       "<!-- convolution1&#45;&gt;pooling0 -->\n",
       "<g id=\"edge4\" class=\"edge\"><title>convolution1&#45;&gt;pooling0</title>\n",
       "<path fill=\"none\" stroke=\"black\" d=\"M47,-365.744C47,-357.204 47,-348.298 47,-340.248\"/>\n",
       "<polygon fill=\"black\" stroke=\"black\" points=\"47,-375.897 42.5001,-365.897 47,-370.897 47.0001,-365.897 47.0001,-365.897 47.0001,-365.897 47,-370.897 51.5001,-365.897 47,-375.897 47,-375.897\"/>\n",
       "</g>\n",
       "<!-- activation3 -->\n",
       "<g id=\"node6\" class=\"node\"><title>activation3</title>\n",
       "<polygon fill=\"#ffffb3\" stroke=\"black\" points=\"94,-528 -7.10543e-15,-528 -7.10543e-15,-470 94,-470 94,-528\"/>\n",
       "<text text-anchor=\"middle\" x=\"47\" y=\"-502.8\" font-family=\"Times,serif\" font-size=\"14.00\">Activation</text>\n",
       "<text text-anchor=\"middle\" x=\"47\" y=\"-487.8\" font-family=\"Times,serif\" font-size=\"14.00\">relu</text>\n",
       "</g>\n",
       "<!-- activation3&#45;&gt;convolution1 -->\n",
       "<g id=\"edge5\" class=\"edge\"><title>activation3&#45;&gt;convolution1</title>\n",
       "<path fill=\"none\" stroke=\"black\" d=\"M47,-459.744C47,-451.204 47,-442.298 47,-434.248\"/>\n",
       "<polygon fill=\"black\" stroke=\"black\" points=\"47,-469.897 42.5001,-459.897 47,-464.897 47.0001,-459.897 47.0001,-459.897 47.0001,-459.897 47,-464.897 51.5001,-459.897 47,-469.897 47,-469.897\"/>\n",
       "</g>\n",
       "<!-- pooling1 -->\n",
       "<g id=\"node7\" class=\"node\"><title>pooling1</title>\n",
       "<polygon fill=\"#80b1d3\" stroke=\"black\" points=\"94,-622 -7.10543e-15,-622 -7.10543e-15,-564 94,-564 94,-622\"/>\n",
       "<text text-anchor=\"middle\" x=\"47\" y=\"-596.8\" font-family=\"Times,serif\" font-size=\"14.00\">Pooling</text>\n",
       "<text text-anchor=\"middle\" x=\"47\" y=\"-581.8\" font-family=\"Times,serif\" font-size=\"14.00\">max, 2x2/2x2</text>\n",
       "</g>\n",
       "<!-- pooling1&#45;&gt;activation3 -->\n",
       "<g id=\"edge6\" class=\"edge\"><title>pooling1&#45;&gt;activation3</title>\n",
       "<path fill=\"none\" stroke=\"black\" d=\"M47,-553.744C47,-545.204 47,-536.298 47,-528.248\"/>\n",
       "<polygon fill=\"black\" stroke=\"black\" points=\"47,-563.897 42.5001,-553.897 47,-558.897 47.0001,-553.897 47.0001,-553.897 47.0001,-553.897 47,-558.897 51.5001,-553.897 47,-563.897 47,-563.897\"/>\n",
       "</g>\n",
       "<!-- flatten1 -->\n",
       "<g id=\"node8\" class=\"node\"><title>flatten1</title>\n",
       "<polygon fill=\"#fdb462\" stroke=\"black\" points=\"94,-716 -7.10543e-15,-716 -7.10543e-15,-658 94,-658 94,-716\"/>\n",
       "<text text-anchor=\"middle\" x=\"47\" y=\"-683.3\" font-family=\"Times,serif\" font-size=\"14.00\">flatten1</text>\n",
       "</g>\n",
       "<!-- flatten1&#45;&gt;pooling1 -->\n",
       "<g id=\"edge7\" class=\"edge\"><title>flatten1&#45;&gt;pooling1</title>\n",
       "<path fill=\"none\" stroke=\"black\" d=\"M47,-647.744C47,-639.204 47,-630.298 47,-622.248\"/>\n",
       "<polygon fill=\"black\" stroke=\"black\" points=\"47,-657.897 42.5001,-647.897 47,-652.897 47.0001,-647.897 47.0001,-647.897 47.0001,-647.897 47,-652.897 51.5001,-647.897 47,-657.897 47,-657.897\"/>\n",
       "</g>\n",
       "<!-- fullyconnected3 -->\n",
       "<g id=\"node9\" class=\"node\"><title>fullyconnected3</title>\n",
       "<polygon fill=\"#fb8072\" stroke=\"black\" points=\"94,-810 -7.10543e-15,-810 -7.10543e-15,-752 94,-752 94,-810\"/>\n",
       "<text text-anchor=\"middle\" x=\"47\" y=\"-784.8\" font-family=\"Times,serif\" font-size=\"14.00\">FullyConnected</text>\n",
       "<text text-anchor=\"middle\" x=\"47\" y=\"-769.8\" font-family=\"Times,serif\" font-size=\"14.00\">500</text>\n",
       "</g>\n",
       "<!-- fullyconnected3&#45;&gt;flatten1 -->\n",
       "<g id=\"edge8\" class=\"edge\"><title>fullyconnected3&#45;&gt;flatten1</title>\n",
       "<path fill=\"none\" stroke=\"black\" d=\"M47,-741.744C47,-733.204 47,-724.298 47,-716.248\"/>\n",
       "<polygon fill=\"black\" stroke=\"black\" points=\"47,-751.897 42.5001,-741.897 47,-746.897 47.0001,-741.897 47.0001,-741.897 47.0001,-741.897 47,-746.897 51.5001,-741.897 47,-751.897 47,-751.897\"/>\n",
       "</g>\n",
       "<!-- activation4 -->\n",
       "<g id=\"node10\" class=\"node\"><title>activation4</title>\n",
       "<polygon fill=\"#ffffb3\" stroke=\"black\" points=\"94,-904 -7.10543e-15,-904 -7.10543e-15,-846 94,-846 94,-904\"/>\n",
       "<text text-anchor=\"middle\" x=\"47\" y=\"-878.8\" font-family=\"Times,serif\" font-size=\"14.00\">Activation</text>\n",
       "<text text-anchor=\"middle\" x=\"47\" y=\"-863.8\" font-family=\"Times,serif\" font-size=\"14.00\">relu</text>\n",
       "</g>\n",
       "<!-- activation4&#45;&gt;fullyconnected3 -->\n",
       "<g id=\"edge9\" class=\"edge\"><title>activation4&#45;&gt;fullyconnected3</title>\n",
       "<path fill=\"none\" stroke=\"black\" d=\"M47,-835.744C47,-827.204 47,-818.298 47,-810.248\"/>\n",
       "<polygon fill=\"black\" stroke=\"black\" points=\"47,-845.897 42.5001,-835.897 47,-840.897 47.0001,-835.897 47.0001,-835.897 47.0001,-835.897 47,-840.897 51.5001,-835.897 47,-845.897 47,-845.897\"/>\n",
       "</g>\n",
       "<!-- fullyconnected4 -->\n",
       "<g id=\"node11\" class=\"node\"><title>fullyconnected4</title>\n",
       "<polygon fill=\"#fb8072\" stroke=\"black\" points=\"94,-998 -7.10543e-15,-998 -7.10543e-15,-940 94,-940 94,-998\"/>\n",
       "<text text-anchor=\"middle\" x=\"47\" y=\"-972.8\" font-family=\"Times,serif\" font-size=\"14.00\">FullyConnected</text>\n",
       "<text text-anchor=\"middle\" x=\"47\" y=\"-957.8\" font-family=\"Times,serif\" font-size=\"14.00\">32</text>\n",
       "</g>\n",
       "<!-- fullyconnected4&#45;&gt;activation4 -->\n",
       "<g id=\"edge10\" class=\"edge\"><title>fullyconnected4&#45;&gt;activation4</title>\n",
       "<path fill=\"none\" stroke=\"black\" d=\"M47,-929.744C47,-921.204 47,-912.298 47,-904.248\"/>\n",
       "<polygon fill=\"black\" stroke=\"black\" points=\"47,-939.897 42.5001,-929.897 47,-934.897 47.0001,-929.897 47.0001,-929.897 47.0001,-929.897 47,-934.897 51.5001,-929.897 47,-939.897 47,-939.897\"/>\n",
       "</g>\n",
       "<!-- softmax_label -->\n",
       "<g id=\"node12\" class=\"node\"><title>softmax_label</title>\n",
       "<ellipse fill=\"#8dd3c7\" stroke=\"black\" cx=\"159\" cy=\"-969\" rx=\"47\" ry=\"29\"/>\n",
       "<text text-anchor=\"middle\" x=\"159\" y=\"-965.3\" font-family=\"Times,serif\" font-size=\"14.00\">softmax_label</text>\n",
       "</g>\n",
       "<!-- softmax -->\n",
       "<g id=\"node13\" class=\"node\"><title>softmax</title>\n",
       "<polygon fill=\"#fccde5\" stroke=\"black\" points=\"150,-1092 56,-1092 56,-1034 150,-1034 150,-1092\"/>\n",
       "<text text-anchor=\"middle\" x=\"103\" y=\"-1059.3\" font-family=\"Times,serif\" font-size=\"14.00\">softmax</text>\n",
       "</g>\n",
       "<!-- softmax&#45;&gt;fullyconnected4 -->\n",
       "<g id=\"edge11\" class=\"edge\"><title>softmax&#45;&gt;fullyconnected4</title>\n",
       "<path fill=\"none\" stroke=\"black\" d=\"M80.5686,-1025.15C75.113,-1016.19 69.3635,-1006.74 64.1943,-998.248\"/>\n",
       "<polygon fill=\"black\" stroke=\"black\" points=\"85.8939,-1033.9 76.8505,-1027.69 83.2941,-1029.63 80.6944,-1025.36 80.6944,-1025.36 80.6944,-1025.36 83.2941,-1029.63 84.5383,-1023.02 85.8939,-1033.9 85.8939,-1033.9\"/>\n",
       "</g>\n",
       "<!-- softmax&#45;&gt;softmax_label -->\n",
       "<g id=\"edge12\" class=\"edge\"><title>softmax&#45;&gt;softmax_label</title>\n",
       "<path fill=\"none\" stroke=\"black\" d=\"M125.377,-1025.24C131.257,-1015.58 137.481,-1005.35 142.955,-996.36\"/>\n",
       "<polygon fill=\"black\" stroke=\"black\" points=\"120.106,-1033.9 121.462,-1023.02 122.706,-1029.63 125.306,-1025.36 125.306,-1025.36 125.306,-1025.36 122.706,-1029.63 129.15,-1027.69 120.106,-1033.9 120.106,-1033.9\"/>\n",
       "</g>\n",
       "</g>\n",
       "</svg>\n"
      ],
      "text/plain": [
       "<graphviz.dot.Digraph at 0x7f020b098978>"
      ]
     },
     "execution_count": 26,
     "metadata": {},
     "output_type": "execute_result"
    }
   ],
   "source": [
    "mx.viz.plot_network(symbol=cnn)"
   ]
  },
  {
   "cell_type": "markdown",
   "metadata": {},
   "source": [
    "# Train the CNN Model"
   ]
  },
  {
   "cell_type": "code",
   "execution_count": 27,
   "metadata": {},
   "outputs": [
    {
     "name": "stderr",
     "output_type": "stream",
     "text": [
      "INFO:root:Epoch[0] Train-accuracy=0.028125\n",
      "INFO:root:Epoch[0] Time cost=3.450\n",
      "INFO:root:Epoch[0] Validation-accuracy=0.010354\n",
      "INFO:root:Epoch[1] Train-accuracy=0.050000\n",
      "INFO:root:Epoch[1] Time cost=2.731\n",
      "INFO:root:Epoch[1] Validation-accuracy=0.007828\n",
      "INFO:root:Epoch[2] Train-accuracy=0.025000\n",
      "INFO:root:Epoch[2] Time cost=2.735\n",
      "INFO:root:Epoch[2] Validation-accuracy=0.007323\n",
      "INFO:root:Epoch[3] Train-accuracy=0.034375\n",
      "INFO:root:Epoch[3] Time cost=2.733\n",
      "INFO:root:Epoch[3] Validation-accuracy=0.007576\n",
      "INFO:root:Epoch[4] Train-accuracy=0.025000\n",
      "INFO:root:Epoch[4] Time cost=2.741\n",
      "INFO:root:Epoch[4] Validation-accuracy=0.009596\n",
      "INFO:root:Epoch[5] Train-accuracy=0.028125\n",
      "INFO:root:Epoch[5] Time cost=2.720\n",
      "INFO:root:Epoch[5] Validation-accuracy=0.006566\n",
      "INFO:root:Epoch[6] Train-accuracy=0.031250\n",
      "INFO:root:Epoch[6] Time cost=2.723\n",
      "INFO:root:Epoch[6] Validation-accuracy=0.006818\n",
      "INFO:root:Epoch[7] Train-accuracy=0.028125\n",
      "INFO:root:Epoch[7] Time cost=2.744\n",
      "INFO:root:Epoch[7] Validation-accuracy=0.006566\n"
     ]
    }
   ],
   "source": [
    "# create a trainable module on GPU 0\n",
    "cnn_model = mx.mod.Module(symbol=cnn, context=contexts)\n",
    "# train with the same\n",
    "cnn_model.fit(train_iter,\n",
    "                eval_data=val_iter,\n",
    "                optimizer='sgd',\n",
    "                optimizer_params={'learning_rate':0.01,'momentum':0.9},\n",
    "                eval_metric='acc',\n",
    "                num_epoch=num_epochs)"
   ]
  },
  {
   "cell_type": "markdown",
   "metadata": {},
   "source": [
    "# Test Accuracy of CNN"
   ]
  },
  {
   "cell_type": "code",
   "execution_count": 28,
   "metadata": {},
   "outputs": [
    {
     "data": {
      "text/plain": [
       "0.021212121212121213"
      ]
     },
     "execution_count": 28,
     "metadata": {},
     "output_type": "execute_result"
    }
   ],
   "source": [
    "prob = cnn_model.predict(test_iter)\n",
    "top_3_prediction = get_top_n_label_index_prediction(prob.asnumpy(),3,threshold=prob.asnumpy().mean())\n",
    "predicted_label = get_predicted_label(top_3_prediction)\n",
    "calculate_accuracy(test_label,predicted_label)"
   ]
  },
  {
   "cell_type": "markdown",
   "metadata": {},
   "source": [
    "# Lets save the CNN Model"
   ]
  },
  {
   "cell_type": "code",
   "execution_count": 29,
   "metadata": {},
   "outputs": [
    {
     "name": "stderr",
     "output_type": "stream",
     "text": [
      "INFO:root:Saved checkpoint to \"cnn-model-0000.params\"\n"
     ]
    }
   ],
   "source": [
    "cnn_model.save_checkpoint(\"cnn-model\",0)"
   ]
  },
  {
   "cell_type": "markdown",
   "metadata": {},
   "source": [
    "# Lets see how to use PreTrained Model using GLUON"
   ]
  },
  {
   "cell_type": "markdown",
   "metadata": {},
   "source": [
    "### Get pretrained resnet"
   ]
  },
  {
   "cell_type": "code",
   "execution_count": 30,
   "metadata": {},
   "outputs": [],
   "source": [
    "from mxnet.gluon import nn\n",
    "from mxnet.gluon.model_zoo import vision as models\n",
    "\n",
    "net = models.resnet101_v1(pretrained=True, prefix='logo')"
   ]
  },
  {
   "cell_type": "markdown",
   "metadata": {},
   "source": [
    "### Lets modify the last layer and initialize the weights using the pretrained weights"
   ]
  },
  {
   "cell_type": "code",
   "execution_count": 31,
   "metadata": {},
   "outputs": [
    {
     "name": "stdout",
     "output_type": "stream",
     "text": [
      "ResNetV1(\n",
      "  (classifier): HybridSequential(\n",
      "    (0): GlobalAvgPool2D(size=(1, 1), stride=(1, 1), padding=(0, 0), ceil_mode=True)\n",
      "    (1): Dense(2048 -> 32, linear)\n",
      "  )\n",
      "  (features): HybridSequential(\n",
      "    (0): Conv2D(3 -> 64, kernel_size=(7, 7), stride=(2, 2), padding=(3, 3), bias=False)\n",
      "    (1): BatchNorm(fix_gamma=False, momentum=0.9, eps=1e-05, axis=1)\n",
      "    (2): Activation(relu)\n",
      "    (3): MaxPool2D(size=(3, 3), stride=(2, 2), padding=(1, 1), ceil_mode=False)\n",
      "    (4): HybridSequential(\n",
      "      (0): BottleneckV1(\n",
      "        (body): HybridSequential(\n",
      "          (0): Conv2D(64, kernel_size=(1, 1), stride=(1, 1))\n",
      "          (1): BatchNorm(fix_gamma=False, momentum=0.9, eps=1e-05, axis=1)\n",
      "          (2): Activation(relu)\n",
      "          (3): Conv2D(64 -> 64, kernel_size=(3, 3), stride=(1, 1), padding=(1, 1), bias=False)\n",
      "          (4): BatchNorm(fix_gamma=False, momentum=0.9, eps=1e-05, axis=1)\n",
      "          (5): Activation(relu)\n",
      "          (6): Conv2D(256, kernel_size=(1, 1), stride=(1, 1))\n",
      "          (7): BatchNorm(fix_gamma=False, momentum=0.9, eps=1e-05, axis=1)\n",
      "        )\n",
      "        (downsample): HybridSequential(\n",
      "          (0): Conv2D(64 -> 256, kernel_size=(1, 1), stride=(1, 1), bias=False)\n",
      "          (1): BatchNorm(fix_gamma=False, momentum=0.9, eps=1e-05, axis=1)\n",
      "        )\n",
      "      )\n",
      "      (1): BottleneckV1(\n",
      "        (body): HybridSequential(\n",
      "          (0): Conv2D(64, kernel_size=(1, 1), stride=(1, 1))\n",
      "          (1): BatchNorm(fix_gamma=False, momentum=0.9, eps=1e-05, axis=1)\n",
      "          (2): Activation(relu)\n",
      "          (3): Conv2D(64 -> 64, kernel_size=(3, 3), stride=(1, 1), padding=(1, 1), bias=False)\n",
      "          (4): BatchNorm(fix_gamma=False, momentum=0.9, eps=1e-05, axis=1)\n",
      "          (5): Activation(relu)\n",
      "          (6): Conv2D(256, kernel_size=(1, 1), stride=(1, 1))\n",
      "          (7): BatchNorm(fix_gamma=False, momentum=0.9, eps=1e-05, axis=1)\n",
      "        )\n",
      "      )\n",
      "      (2): BottleneckV1(\n",
      "        (body): HybridSequential(\n",
      "          (0): Conv2D(64, kernel_size=(1, 1), stride=(1, 1))\n",
      "          (1): BatchNorm(fix_gamma=False, momentum=0.9, eps=1e-05, axis=1)\n",
      "          (2): Activation(relu)\n",
      "          (3): Conv2D(64 -> 64, kernel_size=(3, 3), stride=(1, 1), padding=(1, 1), bias=False)\n",
      "          (4): BatchNorm(fix_gamma=False, momentum=0.9, eps=1e-05, axis=1)\n",
      "          (5): Activation(relu)\n",
      "          (6): Conv2D(256, kernel_size=(1, 1), stride=(1, 1))\n",
      "          (7): BatchNorm(fix_gamma=False, momentum=0.9, eps=1e-05, axis=1)\n",
      "        )\n",
      "      )\n",
      "    )\n",
      "    (5): HybridSequential(\n",
      "      (0): BottleneckV1(\n",
      "        (body): HybridSequential(\n",
      "          (0): Conv2D(128, kernel_size=(1, 1), stride=(1, 1))\n",
      "          (1): BatchNorm(fix_gamma=False, momentum=0.9, eps=1e-05, axis=1)\n",
      "          (2): Activation(relu)\n",
      "          (3): Conv2D(128 -> 128, kernel_size=(3, 3), stride=(2, 2), padding=(1, 1), bias=False)\n",
      "          (4): BatchNorm(fix_gamma=False, momentum=0.9, eps=1e-05, axis=1)\n",
      "          (5): Activation(relu)\n",
      "          (6): Conv2D(512, kernel_size=(1, 1), stride=(1, 1))\n",
      "          (7): BatchNorm(fix_gamma=False, momentum=0.9, eps=1e-05, axis=1)\n",
      "        )\n",
      "        (downsample): HybridSequential(\n",
      "          (0): Conv2D(256 -> 512, kernel_size=(1, 1), stride=(2, 2), bias=False)\n",
      "          (1): BatchNorm(fix_gamma=False, momentum=0.9, eps=1e-05, axis=1)\n",
      "        )\n",
      "      )\n",
      "      (1): BottleneckV1(\n",
      "        (body): HybridSequential(\n",
      "          (0): Conv2D(128, kernel_size=(1, 1), stride=(1, 1))\n",
      "          (1): BatchNorm(fix_gamma=False, momentum=0.9, eps=1e-05, axis=1)\n",
      "          (2): Activation(relu)\n",
      "          (3): Conv2D(128 -> 128, kernel_size=(3, 3), stride=(1, 1), padding=(1, 1), bias=False)\n",
      "          (4): BatchNorm(fix_gamma=False, momentum=0.9, eps=1e-05, axis=1)\n",
      "          (5): Activation(relu)\n",
      "          (6): Conv2D(512, kernel_size=(1, 1), stride=(1, 1))\n",
      "          (7): BatchNorm(fix_gamma=False, momentum=0.9, eps=1e-05, axis=1)\n",
      "        )\n",
      "      )\n",
      "      (2): BottleneckV1(\n",
      "        (body): HybridSequential(\n",
      "          (0): Conv2D(128, kernel_size=(1, 1), stride=(1, 1))\n",
      "          (1): BatchNorm(fix_gamma=False, momentum=0.9, eps=1e-05, axis=1)\n",
      "          (2): Activation(relu)\n",
      "          (3): Conv2D(128 -> 128, kernel_size=(3, 3), stride=(1, 1), padding=(1, 1), bias=False)\n",
      "          (4): BatchNorm(fix_gamma=False, momentum=0.9, eps=1e-05, axis=1)\n",
      "          (5): Activation(relu)\n",
      "          (6): Conv2D(512, kernel_size=(1, 1), stride=(1, 1))\n",
      "          (7): BatchNorm(fix_gamma=False, momentum=0.9, eps=1e-05, axis=1)\n",
      "        )\n",
      "      )\n",
      "      (3): BottleneckV1(\n",
      "        (body): HybridSequential(\n",
      "          (0): Conv2D(128, kernel_size=(1, 1), stride=(1, 1))\n",
      "          (1): BatchNorm(fix_gamma=False, momentum=0.9, eps=1e-05, axis=1)\n",
      "          (2): Activation(relu)\n",
      "          (3): Conv2D(128 -> 128, kernel_size=(3, 3), stride=(1, 1), padding=(1, 1), bias=False)\n",
      "          (4): BatchNorm(fix_gamma=False, momentum=0.9, eps=1e-05, axis=1)\n",
      "          (5): Activation(relu)\n",
      "          (6): Conv2D(512, kernel_size=(1, 1), stride=(1, 1))\n",
      "          (7): BatchNorm(fix_gamma=False, momentum=0.9, eps=1e-05, axis=1)\n",
      "        )\n",
      "      )\n",
      "    )\n",
      "    (6): HybridSequential(\n",
      "      (0): BottleneckV1(\n",
      "        (body): HybridSequential(\n",
      "          (0): Conv2D(256, kernel_size=(1, 1), stride=(1, 1))\n",
      "          (1): BatchNorm(fix_gamma=False, momentum=0.9, eps=1e-05, axis=1)\n",
      "          (2): Activation(relu)\n",
      "          (3): Conv2D(256 -> 256, kernel_size=(3, 3), stride=(2, 2), padding=(1, 1), bias=False)\n",
      "          (4): BatchNorm(fix_gamma=False, momentum=0.9, eps=1e-05, axis=1)\n",
      "          (5): Activation(relu)\n",
      "          (6): Conv2D(1024, kernel_size=(1, 1), stride=(1, 1))\n",
      "          (7): BatchNorm(fix_gamma=False, momentum=0.9, eps=1e-05, axis=1)\n",
      "        )\n",
      "        (downsample): HybridSequential(\n",
      "          (0): Conv2D(512 -> 1024, kernel_size=(1, 1), stride=(2, 2), bias=False)\n",
      "          (1): BatchNorm(fix_gamma=False, momentum=0.9, eps=1e-05, axis=1)\n",
      "        )\n",
      "      )\n",
      "      (1): BottleneckV1(\n",
      "        (body): HybridSequential(\n",
      "          (0): Conv2D(256, kernel_size=(1, 1), stride=(1, 1))\n",
      "          (1): BatchNorm(fix_gamma=False, momentum=0.9, eps=1e-05, axis=1)\n",
      "          (2): Activation(relu)\n",
      "          (3): Conv2D(256 -> 256, kernel_size=(3, 3), stride=(1, 1), padding=(1, 1), bias=False)\n",
      "          (4): BatchNorm(fix_gamma=False, momentum=0.9, eps=1e-05, axis=1)\n",
      "          (5): Activation(relu)\n",
      "          (6): Conv2D(1024, kernel_size=(1, 1), stride=(1, 1))\n",
      "          (7): BatchNorm(fix_gamma=False, momentum=0.9, eps=1e-05, axis=1)\n",
      "        )\n",
      "      )\n",
      "      (2): BottleneckV1(\n",
      "        (body): HybridSequential(\n",
      "          (0): Conv2D(256, kernel_size=(1, 1), stride=(1, 1))\n",
      "          (1): BatchNorm(fix_gamma=False, momentum=0.9, eps=1e-05, axis=1)\n",
      "          (2): Activation(relu)\n",
      "          (3): Conv2D(256 -> 256, kernel_size=(3, 3), stride=(1, 1), padding=(1, 1), bias=False)\n",
      "          (4): BatchNorm(fix_gamma=False, momentum=0.9, eps=1e-05, axis=1)\n",
      "          (5): Activation(relu)\n",
      "          (6): Conv2D(1024, kernel_size=(1, 1), stride=(1, 1))\n",
      "          (7): BatchNorm(fix_gamma=False, momentum=0.9, eps=1e-05, axis=1)\n",
      "        )\n",
      "      )\n",
      "      (3): BottleneckV1(\n",
      "        (body): HybridSequential(\n",
      "          (0): Conv2D(256, kernel_size=(1, 1), stride=(1, 1))\n",
      "          (1): BatchNorm(fix_gamma=False, momentum=0.9, eps=1e-05, axis=1)\n",
      "          (2): Activation(relu)\n",
      "          (3): Conv2D(256 -> 256, kernel_size=(3, 3), stride=(1, 1), padding=(1, 1), bias=False)\n",
      "          (4): BatchNorm(fix_gamma=False, momentum=0.9, eps=1e-05, axis=1)\n",
      "          (5): Activation(relu)\n",
      "          (6): Conv2D(1024, kernel_size=(1, 1), stride=(1, 1))\n",
      "          (7): BatchNorm(fix_gamma=False, momentum=0.9, eps=1e-05, axis=1)\n",
      "        )\n",
      "      )\n",
      "      (4): BottleneckV1(\n",
      "        (body): HybridSequential(\n",
      "          (0): Conv2D(256, kernel_size=(1, 1), stride=(1, 1))\n",
      "          (1): BatchNorm(fix_gamma=False, momentum=0.9, eps=1e-05, axis=1)\n",
      "          (2): Activation(relu)\n",
      "          (3): Conv2D(256 -> 256, kernel_size=(3, 3), stride=(1, 1), padding=(1, 1), bias=False)\n",
      "          (4): BatchNorm(fix_gamma=False, momentum=0.9, eps=1e-05, axis=1)\n",
      "          (5): Activation(relu)\n",
      "          (6): Conv2D(1024, kernel_size=(1, 1), stride=(1, 1))\n",
      "          (7): BatchNorm(fix_gamma=False, momentum=0.9, eps=1e-05, axis=1)\n",
      "        )\n",
      "      )\n",
      "      (5): BottleneckV1(\n",
      "        (body): HybridSequential(\n",
      "          (0): Conv2D(256, kernel_size=(1, 1), stride=(1, 1))\n",
      "          (1): BatchNorm(fix_gamma=False, momentum=0.9, eps=1e-05, axis=1)\n",
      "          (2): Activation(relu)\n",
      "          (3): Conv2D(256 -> 256, kernel_size=(3, 3), stride=(1, 1), padding=(1, 1), bias=False)\n",
      "          (4): BatchNorm(fix_gamma=False, momentum=0.9, eps=1e-05, axis=1)\n",
      "          (5): Activation(relu)\n",
      "          (6): Conv2D(1024, kernel_size=(1, 1), stride=(1, 1))\n",
      "          (7): BatchNorm(fix_gamma=False, momentum=0.9, eps=1e-05, axis=1)\n",
      "        )\n",
      "      )\n",
      "      (6): BottleneckV1(\n",
      "        (body): HybridSequential(\n",
      "          (0): Conv2D(256, kernel_size=(1, 1), stride=(1, 1))\n",
      "          (1): BatchNorm(fix_gamma=False, momentum=0.9, eps=1e-05, axis=1)\n",
      "          (2): Activation(relu)\n",
      "          (3): Conv2D(256 -> 256, kernel_size=(3, 3), stride=(1, 1), padding=(1, 1), bias=False)\n",
      "          (4): BatchNorm(fix_gamma=False, momentum=0.9, eps=1e-05, axis=1)\n",
      "          (5): Activation(relu)\n",
      "          (6): Conv2D(1024, kernel_size=(1, 1), stride=(1, 1))\n",
      "          (7): BatchNorm(fix_gamma=False, momentum=0.9, eps=1e-05, axis=1)\n",
      "        )\n",
      "      )\n",
      "      (7): BottleneckV1(\n",
      "        (body): HybridSequential(\n",
      "          (0): Conv2D(256, kernel_size=(1, 1), stride=(1, 1))\n",
      "          (1): BatchNorm(fix_gamma=False, momentum=0.9, eps=1e-05, axis=1)\n",
      "          (2): Activation(relu)\n",
      "          (3): Conv2D(256 -> 256, kernel_size=(3, 3), stride=(1, 1), padding=(1, 1), bias=False)\n",
      "          (4): BatchNorm(fix_gamma=False, momentum=0.9, eps=1e-05, axis=1)\n",
      "          (5): Activation(relu)\n",
      "          (6): Conv2D(1024, kernel_size=(1, 1), stride=(1, 1))\n",
      "          (7): BatchNorm(fix_gamma=False, momentum=0.9, eps=1e-05, axis=1)\n",
      "        )\n",
      "      )\n",
      "      (8): BottleneckV1(\n",
      "        (body): HybridSequential(\n",
      "          (0): Conv2D(256, kernel_size=(1, 1), stride=(1, 1))\n",
      "          (1): BatchNorm(fix_gamma=False, momentum=0.9, eps=1e-05, axis=1)\n",
      "          (2): Activation(relu)\n",
      "          (3): Conv2D(256 -> 256, kernel_size=(3, 3), stride=(1, 1), padding=(1, 1), bias=False)\n",
      "          (4): BatchNorm(fix_gamma=False, momentum=0.9, eps=1e-05, axis=1)\n",
      "          (5): Activation(relu)\n",
      "          (6): Conv2D(1024, kernel_size=(1, 1), stride=(1, 1))\n",
      "          (7): BatchNorm(fix_gamma=False, momentum=0.9, eps=1e-05, axis=1)\n",
      "        )\n",
      "      )\n",
      "      (9): BottleneckV1(\n",
      "        (body): HybridSequential(\n",
      "          (0): Conv2D(256, kernel_size=(1, 1), stride=(1, 1))\n",
      "          (1): BatchNorm(fix_gamma=False, momentum=0.9, eps=1e-05, axis=1)\n",
      "          (2): Activation(relu)\n",
      "          (3): Conv2D(256 -> 256, kernel_size=(3, 3), stride=(1, 1), padding=(1, 1), bias=False)\n",
      "          (4): BatchNorm(fix_gamma=False, momentum=0.9, eps=1e-05, axis=1)\n",
      "          (5): Activation(relu)\n",
      "          (6): Conv2D(1024, kernel_size=(1, 1), stride=(1, 1))\n",
      "          (7): BatchNorm(fix_gamma=False, momentum=0.9, eps=1e-05, axis=1)\n",
      "        )\n",
      "      )\n",
      "      (10): BottleneckV1(\n",
      "        (body): HybridSequential(\n",
      "          (0): Conv2D(256, kernel_size=(1, 1), stride=(1, 1))\n",
      "          (1): BatchNorm(fix_gamma=False, momentum=0.9, eps=1e-05, axis=1)\n",
      "          (2): Activation(relu)\n",
      "          (3): Conv2D(256 -> 256, kernel_size=(3, 3), stride=(1, 1), padding=(1, 1), bias=False)\n",
      "          (4): BatchNorm(fix_gamma=False, momentum=0.9, eps=1e-05, axis=1)\n",
      "          (5): Activation(relu)\n",
      "          (6): Conv2D(1024, kernel_size=(1, 1), stride=(1, 1))\n",
      "          (7): BatchNorm(fix_gamma=False, momentum=0.9, eps=1e-05, axis=1)\n",
      "        )\n",
      "      )\n",
      "      (11): BottleneckV1(\n",
      "        (body): HybridSequential(\n",
      "          (0): Conv2D(256, kernel_size=(1, 1), stride=(1, 1))\n",
      "          (1): BatchNorm(fix_gamma=False, momentum=0.9, eps=1e-05, axis=1)\n",
      "          (2): Activation(relu)\n",
      "          (3): Conv2D(256 -> 256, kernel_size=(3, 3), stride=(1, 1), padding=(1, 1), bias=False)\n",
      "          (4): BatchNorm(fix_gamma=False, momentum=0.9, eps=1e-05, axis=1)\n",
      "          (5): Activation(relu)\n",
      "          (6): Conv2D(1024, kernel_size=(1, 1), stride=(1, 1))\n",
      "          (7): BatchNorm(fix_gamma=False, momentum=0.9, eps=1e-05, axis=1)\n",
      "        )\n",
      "      )\n",
      "      (12): BottleneckV1(\n",
      "        (body): HybridSequential(\n",
      "          (0): Conv2D(256, kernel_size=(1, 1), stride=(1, 1))\n",
      "          (1): BatchNorm(fix_gamma=False, momentum=0.9, eps=1e-05, axis=1)\n",
      "          (2): Activation(relu)\n",
      "          (3): Conv2D(256 -> 256, kernel_size=(3, 3), stride=(1, 1), padding=(1, 1), bias=False)\n",
      "          (4): BatchNorm(fix_gamma=False, momentum=0.9, eps=1e-05, axis=1)\n",
      "          (5): Activation(relu)\n",
      "          (6): Conv2D(1024, kernel_size=(1, 1), stride=(1, 1))\n",
      "          (7): BatchNorm(fix_gamma=False, momentum=0.9, eps=1e-05, axis=1)\n",
      "        )\n",
      "      )\n",
      "      (13): BottleneckV1(\n",
      "        (body): HybridSequential(\n",
      "          (0): Conv2D(256, kernel_size=(1, 1), stride=(1, 1))\n",
      "          (1): BatchNorm(fix_gamma=False, momentum=0.9, eps=1e-05, axis=1)\n",
      "          (2): Activation(relu)\n",
      "          (3): Conv2D(256 -> 256, kernel_size=(3, 3), stride=(1, 1), padding=(1, 1), bias=False)\n",
      "          (4): BatchNorm(fix_gamma=False, momentum=0.9, eps=1e-05, axis=1)\n",
      "          (5): Activation(relu)\n",
      "          (6): Conv2D(1024, kernel_size=(1, 1), stride=(1, 1))\n",
      "          (7): BatchNorm(fix_gamma=False, momentum=0.9, eps=1e-05, axis=1)\n",
      "        )\n",
      "      )\n",
      "      (14): BottleneckV1(\n",
      "        (body): HybridSequential(\n",
      "          (0): Conv2D(256, kernel_size=(1, 1), stride=(1, 1))\n",
      "          (1): BatchNorm(fix_gamma=False, momentum=0.9, eps=1e-05, axis=1)\n",
      "          (2): Activation(relu)\n",
      "          (3): Conv2D(256 -> 256, kernel_size=(3, 3), stride=(1, 1), padding=(1, 1), bias=False)\n",
      "          (4): BatchNorm(fix_gamma=False, momentum=0.9, eps=1e-05, axis=1)\n",
      "          (5): Activation(relu)\n",
      "          (6): Conv2D(1024, kernel_size=(1, 1), stride=(1, 1))\n",
      "          (7): BatchNorm(fix_gamma=False, momentum=0.9, eps=1e-05, axis=1)\n",
      "        )\n",
      "      )\n",
      "      (15): BottleneckV1(\n",
      "        (body): HybridSequential(\n",
      "          (0): Conv2D(256, kernel_size=(1, 1), stride=(1, 1))\n",
      "          (1): BatchNorm(fix_gamma=False, momentum=0.9, eps=1e-05, axis=1)\n",
      "          (2): Activation(relu)\n",
      "          (3): Conv2D(256 -> 256, kernel_size=(3, 3), stride=(1, 1), padding=(1, 1), bias=False)\n",
      "          (4): BatchNorm(fix_gamma=False, momentum=0.9, eps=1e-05, axis=1)\n",
      "          (5): Activation(relu)\n",
      "          (6): Conv2D(1024, kernel_size=(1, 1), stride=(1, 1))\n",
      "          (7): BatchNorm(fix_gamma=False, momentum=0.9, eps=1e-05, axis=1)\n",
      "        )\n",
      "      )\n",
      "      (16): BottleneckV1(\n",
      "        (body): HybridSequential(\n",
      "          (0): Conv2D(256, kernel_size=(1, 1), stride=(1, 1))\n",
      "          (1): BatchNorm(fix_gamma=False, momentum=0.9, eps=1e-05, axis=1)\n",
      "          (2): Activation(relu)\n",
      "          (3): Conv2D(256 -> 256, kernel_size=(3, 3), stride=(1, 1), padding=(1, 1), bias=False)\n",
      "          (4): BatchNorm(fix_gamma=False, momentum=0.9, eps=1e-05, axis=1)\n",
      "          (5): Activation(relu)\n",
      "          (6): Conv2D(1024, kernel_size=(1, 1), stride=(1, 1))\n",
      "          (7): BatchNorm(fix_gamma=False, momentum=0.9, eps=1e-05, axis=1)\n",
      "        )\n",
      "      )\n",
      "      (17): BottleneckV1(\n",
      "        (body): HybridSequential(\n",
      "          (0): Conv2D(256, kernel_size=(1, 1), stride=(1, 1))\n",
      "          (1): BatchNorm(fix_gamma=False, momentum=0.9, eps=1e-05, axis=1)\n",
      "          (2): Activation(relu)\n",
      "          (3): Conv2D(256 -> 256, kernel_size=(3, 3), stride=(1, 1), padding=(1, 1), bias=False)\n",
      "          (4): BatchNorm(fix_gamma=False, momentum=0.9, eps=1e-05, axis=1)\n",
      "          (5): Activation(relu)\n",
      "          (6): Conv2D(1024, kernel_size=(1, 1), stride=(1, 1))\n",
      "          (7): BatchNorm(fix_gamma=False, momentum=0.9, eps=1e-05, axis=1)\n",
      "        )\n",
      "      )\n",
      "      (18): BottleneckV1(\n",
      "        (body): HybridSequential(\n",
      "          (0): Conv2D(256, kernel_size=(1, 1), stride=(1, 1))\n",
      "          (1): BatchNorm(fix_gamma=False, momentum=0.9, eps=1e-05, axis=1)\n",
      "          (2): Activation(relu)\n",
      "          (3): Conv2D(256 -> 256, kernel_size=(3, 3), stride=(1, 1), padding=(1, 1), bias=False)\n",
      "          (4): BatchNorm(fix_gamma=False, momentum=0.9, eps=1e-05, axis=1)\n",
      "          (5): Activation(relu)\n",
      "          (6): Conv2D(1024, kernel_size=(1, 1), stride=(1, 1))\n",
      "          (7): BatchNorm(fix_gamma=False, momentum=0.9, eps=1e-05, axis=1)\n",
      "        )\n",
      "      )\n",
      "      (19): BottleneckV1(\n",
      "        (body): HybridSequential(\n",
      "          (0): Conv2D(256, kernel_size=(1, 1), stride=(1, 1))\n",
      "          (1): BatchNorm(fix_gamma=False, momentum=0.9, eps=1e-05, axis=1)\n",
      "          (2): Activation(relu)\n",
      "          (3): Conv2D(256 -> 256, kernel_size=(3, 3), stride=(1, 1), padding=(1, 1), bias=False)\n",
      "          (4): BatchNorm(fix_gamma=False, momentum=0.9, eps=1e-05, axis=1)\n",
      "          (5): Activation(relu)\n",
      "          (6): Conv2D(1024, kernel_size=(1, 1), stride=(1, 1))\n",
      "          (7): BatchNorm(fix_gamma=False, momentum=0.9, eps=1e-05, axis=1)\n",
      "        )\n",
      "      )\n",
      "      (20): BottleneckV1(\n",
      "        (body): HybridSequential(\n",
      "          (0): Conv2D(256, kernel_size=(1, 1), stride=(1, 1))\n",
      "          (1): BatchNorm(fix_gamma=False, momentum=0.9, eps=1e-05, axis=1)\n",
      "          (2): Activation(relu)\n",
      "          (3): Conv2D(256 -> 256, kernel_size=(3, 3), stride=(1, 1), padding=(1, 1), bias=False)\n",
      "          (4): BatchNorm(fix_gamma=False, momentum=0.9, eps=1e-05, axis=1)\n",
      "          (5): Activation(relu)\n",
      "          (6): Conv2D(1024, kernel_size=(1, 1), stride=(1, 1))\n",
      "          (7): BatchNorm(fix_gamma=False, momentum=0.9, eps=1e-05, axis=1)\n",
      "        )\n",
      "      )\n",
      "      (21): BottleneckV1(\n",
      "        (body): HybridSequential(\n",
      "          (0): Conv2D(256, kernel_size=(1, 1), stride=(1, 1))\n",
      "          (1): BatchNorm(fix_gamma=False, momentum=0.9, eps=1e-05, axis=1)\n",
      "          (2): Activation(relu)\n",
      "          (3): Conv2D(256 -> 256, kernel_size=(3, 3), stride=(1, 1), padding=(1, 1), bias=False)\n",
      "          (4): BatchNorm(fix_gamma=False, momentum=0.9, eps=1e-05, axis=1)\n",
      "          (5): Activation(relu)\n",
      "          (6): Conv2D(1024, kernel_size=(1, 1), stride=(1, 1))\n",
      "          (7): BatchNorm(fix_gamma=False, momentum=0.9, eps=1e-05, axis=1)\n",
      "        )\n",
      "      )\n",
      "      (22): BottleneckV1(\n",
      "        (body): HybridSequential(\n",
      "          (0): Conv2D(256, kernel_size=(1, 1), stride=(1, 1))\n",
      "          (1): BatchNorm(fix_gamma=False, momentum=0.9, eps=1e-05, axis=1)\n",
      "          (2): Activation(relu)\n",
      "          (3): Conv2D(256 -> 256, kernel_size=(3, 3), stride=(1, 1), padding=(1, 1), bias=False)\n",
      "          (4): BatchNorm(fix_gamma=False, momentum=0.9, eps=1e-05, axis=1)\n",
      "          (5): Activation(relu)\n",
      "          (6): Conv2D(1024, kernel_size=(1, 1), stride=(1, 1))\n",
      "          (7): BatchNorm(fix_gamma=False, momentum=0.9, eps=1e-05, axis=1)\n",
      "        )\n",
      "      )\n",
      "    )\n",
      "    (7): HybridSequential(\n",
      "      (0): BottleneckV1(\n",
      "        (body): HybridSequential(\n",
      "          (0): Conv2D(512, kernel_size=(1, 1), stride=(1, 1))\n",
      "          (1): BatchNorm(fix_gamma=False, momentum=0.9, eps=1e-05, axis=1)\n",
      "          (2): Activation(relu)\n",
      "          (3): Conv2D(512 -> 512, kernel_size=(3, 3), stride=(2, 2), padding=(1, 1), bias=False)\n",
      "          (4): BatchNorm(fix_gamma=False, momentum=0.9, eps=1e-05, axis=1)\n",
      "          (5): Activation(relu)\n",
      "          (6): Conv2D(2048, kernel_size=(1, 1), stride=(1, 1))\n",
      "          (7): BatchNorm(fix_gamma=False, momentum=0.9, eps=1e-05, axis=1)\n",
      "        )\n",
      "        (downsample): HybridSequential(\n",
      "          (0): Conv2D(1024 -> 2048, kernel_size=(1, 1), stride=(2, 2), bias=False)\n",
      "          (1): BatchNorm(fix_gamma=False, momentum=0.9, eps=1e-05, axis=1)\n",
      "        )\n",
      "      )\n",
      "      (1): BottleneckV1(\n",
      "        (body): HybridSequential(\n",
      "          (0): Conv2D(512, kernel_size=(1, 1), stride=(1, 1))\n",
      "          (1): BatchNorm(fix_gamma=False, momentum=0.9, eps=1e-05, axis=1)\n",
      "          (2): Activation(relu)\n",
      "          (3): Conv2D(512 -> 512, kernel_size=(3, 3), stride=(1, 1), padding=(1, 1), bias=False)\n",
      "          (4): BatchNorm(fix_gamma=False, momentum=0.9, eps=1e-05, axis=1)\n",
      "          (5): Activation(relu)\n",
      "          (6): Conv2D(2048, kernel_size=(1, 1), stride=(1, 1))\n",
      "          (7): BatchNorm(fix_gamma=False, momentum=0.9, eps=1e-05, axis=1)\n",
      "        )\n",
      "      )\n",
      "      (2): BottleneckV1(\n",
      "        (body): HybridSequential(\n",
      "          (0): Conv2D(512, kernel_size=(1, 1), stride=(1, 1))\n",
      "          (1): BatchNorm(fix_gamma=False, momentum=0.9, eps=1e-05, axis=1)\n",
      "          (2): Activation(relu)\n",
      "          (3): Conv2D(512 -> 512, kernel_size=(3, 3), stride=(1, 1), padding=(1, 1), bias=False)\n",
      "          (4): BatchNorm(fix_gamma=False, momentum=0.9, eps=1e-05, axis=1)\n",
      "          (5): Activation(relu)\n",
      "          (6): Conv2D(2048, kernel_size=(1, 1), stride=(1, 1))\n",
      "          (7): BatchNorm(fix_gamma=False, momentum=0.9, eps=1e-05, axis=1)\n",
      "        )\n",
      "      )\n",
      "    )\n",
      "  )\n",
      ")\n"
     ]
    }
   ],
   "source": [
    "mod_resnet_gluon = models.resnet101_v1(prefix='logo', classes=num_classes)\n",
    "mod_resnet_gluon.collect_params().initialize()\n",
    "mod_resnet_gluon.features = net.features\n",
    "print(mod_resnet_gluon)"
   ]
  },
  {
   "cell_type": "markdown",
   "metadata": {},
   "source": [
    "### Lets define the evaliation function"
   ]
  },
  {
   "cell_type": "code",
   "execution_count": 32,
   "metadata": {},
   "outputs": [],
   "source": [
    "def evaluate(net, data_iter, ctx):\n",
    "    data_iter.reset()\n",
    "    acc = mx.metric.Accuracy()\n",
    "    for batch in data_iter:\n",
    "        data = color_normalize(batch.data[0]/255,\n",
    "                               mean=mx.nd.array([0.485, 0.456, 0.406]).reshape((1,3,1,1)),\n",
    "                               std=mx.nd.array([0.229, 0.224, 0.225]).reshape((1,3,1,1)))\n",
    "        \n",
    "        data = gluon.utils.split_and_load(data, ctx_list=ctx, batch_axis=0)\n",
    "        label = gluon.utils.split_and_load(batch.label[0], ctx_list=ctx, batch_axis=0)\n",
    "        outputs = []\n",
    "        for x in data:\n",
    "            outputs.append(net(x))\n",
    "        acc.update(label, outputs)\n",
    "    return acc.get()[1]"
   ]
  },
  {
   "cell_type": "markdown",
   "metadata": {},
   "source": [
    "### Lets define the function for training"
   ]
  },
  {
   "cell_type": "code",
   "execution_count": 33,
   "metadata": {},
   "outputs": [
    {
     "name": "stderr",
     "output_type": "stream",
     "text": [
      "INFO:root:Epoch[0] training accuracy: 0.025\n",
      "INFO:root:Epoch[0] validation accuracy: 0.00909090909091\n",
      "INFO:root:Epoch[0] time cost: 50.401864\n",
      "INFO:root:Best validation accuracy found. Checkpointing...\n",
      "INFO:root:Epoch[1] training accuracy: 0.03125\n",
      "INFO:root:Epoch[1] validation accuracy: 0.00757575757576\n",
      "INFO:root:Epoch[1] time cost: 50.042963\n",
      "INFO:root:Epoch[2] training accuracy: 0.03125\n",
      "INFO:root:Epoch[2] validation accuracy: 0.00757575757576\n",
      "INFO:root:Epoch[2] time cost: 49.336888\n",
      "INFO:root:Epoch[3] training accuracy: 0.028125\n",
      "INFO:root:Epoch[3] validation accuracy: 0.00858585858586\n",
      "INFO:root:Epoch[3] time cost: 49.104645\n",
      "INFO:root:Epoch[4] training accuracy: 0.0625\n",
      "INFO:root:Epoch[4] validation accuracy: 0.0113636363636\n",
      "INFO:root:Epoch[4] time cost: 48.947668\n",
      "INFO:root:Best validation accuracy found. Checkpointing...\n",
      "INFO:root:Epoch[5] training accuracy: 0.059375\n",
      "INFO:root:Epoch[5] validation accuracy: 0.00909090909091\n",
      "INFO:root:Epoch[5] time cost: 49.689168\n",
      "INFO:root:Epoch[6] training accuracy: 0.078125\n",
      "INFO:root:Epoch[6] validation accuracy: 0.0111111111111\n",
      "INFO:root:Epoch[6] time cost: 49.094775\n",
      "INFO:root:Epoch[7] training accuracy: 0.084375\n",
      "INFO:root:Epoch[7] validation accuracy: 0.0131313131313\n",
      "INFO:root:Epoch[7] time cost: 49.133616\n",
      "INFO:root:Best validation accuracy found. Checkpointing...\n"
     ]
    }
   ],
   "source": [
    "def train(net, train_iter, val_iter, epochs, ctx):\n",
    "    if isinstance(ctx, mx.Context):\n",
    "        ctx = [ctx]\n",
    "    trainer = gluon.Trainer(net.collect_params(), 'sgd', {'learning_rate': 0.02, 'momentum': 0.9})\n",
    "    loss = gluon.loss.SoftmaxCrossEntropyLoss()\n",
    "\n",
    "    best_accuracy = 0\n",
    "    best_epoch = 0\n",
    "    for epoch in range(epochs):\n",
    "        tic = time.time()\n",
    "        train_iter.reset()\n",
    "        for i, batch in enumerate(train_iter):\n",
    "            # the model zoo models expect normalized images\n",
    "            data = color_normalize(batch.data[0]/255,\n",
    "                                   mean=mx.nd.array([0.485, 0.456, 0.406]).reshape((1,3,1,1)),\n",
    "                                   std=mx.nd.array([0.229, 0.224, 0.225]).reshape((1,3,1,1)))\n",
    "            data = gluon.utils.split_and_load(data, ctx_list=ctx, batch_axis=0)\n",
    "            label = gluon.utils.split_and_load(batch.label[0], ctx_list=ctx, batch_axis=0)\n",
    "            outputs = []\n",
    "            Ls = []\n",
    "            with autograd.record():\n",
    "                for x, y in zip(data, label):\n",
    "                    z = net(x)\n",
    "                    L = loss(z, y)\n",
    "                    Ls.append(L)\n",
    "                    outputs.append(z)\n",
    "                for L in Ls:\n",
    "                    L.backward()\n",
    "            trainer.step(batch.data[0].shape[0])\n",
    "            \n",
    "        val_accuracy = evaluate(net, val_iter, ctx)\n",
    "        train_accuracy = evaluate(net, train_iter, ctx)\n",
    "\n",
    "        logging.info('Epoch[%d] training accuracy: %s'%(epoch, train_accuracy))\n",
    "        logging.info('Epoch[%d] validation accuracy: %s'%(epoch, val_accuracy))\n",
    "        logging.info('Epoch[%d] time cost: %f'%(epoch, time.time()-tic))\n",
    "                     \n",
    "\n",
    "        if val_accuracy > best_accuracy:\n",
    "            best_accuracy = val_accuracy\n",
    "            best_epoch = epoch\n",
    "            logging.info('Best validation accuracy found. Checkpointing...')\n",
    "            net.save_params('resnet-gluon.params')\n",
    "\n",
    "mod_resnet_gluon.hybridize()\n",
    "if num_epochs > 0:\n",
    "    mod_resnet_gluon.collect_params().reset_ctx(contexts)\n",
    "    train(mod_resnet_gluon, train_iter, val_iter, num_epochs, contexts)"
   ]
  },
  {
   "cell_type": "markdown",
   "metadata": {},
   "source": [
    "### Define the function for predicting test batch"
   ]
  },
  {
   "cell_type": "code",
   "execution_count": 34,
   "metadata": {},
   "outputs": [],
   "source": [
    "def predict_batch(data_iter, ctx, net):\n",
    "    flag = True\n",
    "    prob = None\n",
    "    for batch in data_iter:\n",
    "        data = color_normalize(batch.data[0]/255,\n",
    "                               mean=mx.nd.array([0.485, 0.456, 0.406]).reshape((1,3,1,1)),\n",
    "                               std=mx.nd.array([0.229, 0.224, 0.225]).reshape((1,3,1,1)))\n",
    "        data = gluon.utils.split_and_load(data, ctx_list=ctx, batch_axis=0)\n",
    "        label = gluon.utils.split_and_load(batch.label[0], ctx_list=ctx, batch_axis=0)\n",
    "        for x in data:\n",
    "            pred = net(x)\n",
    "            if flag:\n",
    "                prob = pred.asnumpy()\n",
    "                flag = False\n",
    "            else:\n",
    "                prob = np.append(prob,pred.asnumpy(),axis=0)    \n",
    "    return prob"
   ]
  },
  {
   "cell_type": "markdown",
   "metadata": {},
   "source": [
    "### Accuracy of the Model"
   ]
  },
  {
   "cell_type": "code",
   "execution_count": 36,
   "metadata": {},
   "outputs": [
    {
     "data": {
      "text/plain": [
       "0.033585858585858587"
      ]
     },
     "execution_count": 36,
     "metadata": {},
     "output_type": "execute_result"
    }
   ],
   "source": [
    "test_iter.reset()\n",
    "prob = predict_batch(test_iter,contexts,mod_resnet_gluon)\n",
    "top_3_prediction = get_top_n_label_index_prediction(prob,3,threshold=prob.mean())\n",
    "predicted_label = get_predicted_label(top_3_prediction)\n",
    "calculate_accuracy(test_label,predicted_label)"
   ]
  },
  {
   "cell_type": "markdown",
   "metadata": {},
   "source": [
    "# Lets see how to use PreTrained Model using SYM"
   ]
  },
  {
   "cell_type": "markdown",
   "metadata": {},
   "source": [
    "### Function for downloading a Pretrained Model "
   ]
  },
  {
   "cell_type": "code",
   "execution_count": 37,
   "metadata": {},
   "outputs": [],
   "source": [
    "def download(url):\n",
    "    filename = url.split(\"/\")[-1]\n",
    "    if not os.path.exists(filename):\n",
    "        urllib.request.urlretrieve(url, filename)\n",
    "\n",
    "def get_model(prefix, epoch):\n",
    "    download(prefix+'-symbol.json')\n",
    "    download(prefix+'-%04d.params' % (epoch,))"
   ]
  },
  {
   "cell_type": "markdown",
   "metadata": {},
   "source": [
    "### Function for fine tuning the Pretrained model based on the number of classes for a specific use case"
   ]
  },
  {
   "cell_type": "code",
   "execution_count": 38,
   "metadata": {},
   "outputs": [],
   "source": [
    "def get_fine_tune_model(symbol, arg_params, num_classes, layer_name='flatten0'):\n",
    "    all_layers = symbol.get_internals()\n",
    "    net = all_layers[layer_name+'_output']\n",
    "    net = mx.symbol.FullyConnected(data=net, num_hidden=num_classes, name='fc1')\n",
    "    net = mx.symbol.SoftmaxOutput(data=net, name='softmax')\n",
    "    new_args = dict({k:arg_params[k] for k in arg_params if 'fc1' not in k})\n",
    "    return (net, new_args)"
   ]
  },
  {
   "cell_type": "markdown",
   "metadata": {},
   "source": [
    "### Function for fitting the fine tuned Model"
   ]
  },
  {
   "cell_type": "code",
   "execution_count": 39,
   "metadata": {},
   "outputs": [],
   "source": [
    "import logging\n",
    "head = '%(asctime)-15s %(message)s'\n",
    "logging.basicConfig(level=logging.DEBUG, format=head)\n",
    "\n",
    "def fit(symbol, arg_params, aux_params, train, val, contexts,num_epochs):\n",
    "    mod = mx.mod.Module(symbol=symbol, context=contexts)\n",
    "    mod.fit(train, val,\n",
    "        num_epoch=num_epochs,\n",
    "        arg_params=arg_params,\n",
    "        aux_params=aux_params,\n",
    "        allow_missing=True,\n",
    "        kvstore='device',\n",
    "        optimizer='sgd',\n",
    "        optimizer_params={'learning_rate':0.01,'momentum':0.9},\n",
    "        initializer=mx.init.Xavier(rnd_type='gaussian', factor_type=\"in\", magnitude=2),\n",
    "        eval_metric='acc')\n",
    "    metric = mx.metric.Accuracy()\n",
    "    return mod,mod.score(val, metric)"
   ]
  },
  {
   "cell_type": "markdown",
   "metadata": {},
   "source": [
    "### Fit the Pretrained SYM Model"
   ]
  },
  {
   "cell_type": "code",
   "execution_count": 40,
   "metadata": {},
   "outputs": [
    {
     "name": "stderr",
     "output_type": "stream",
     "text": [
      "INFO:root:Epoch[0] Train-accuracy=0.021875\n",
      "INFO:root:Epoch[0] Time cost=1.302\n",
      "INFO:root:Epoch[0] Validation-accuracy=0.008586\n",
      "INFO:root:Epoch[1] Train-accuracy=0.065625\n",
      "INFO:root:Epoch[1] Time cost=2.796\n",
      "INFO:root:Epoch[1] Validation-accuracy=0.010354\n",
      "INFO:root:Epoch[2] Train-accuracy=0.043750\n",
      "INFO:root:Epoch[2] Time cost=2.915\n",
      "INFO:root:Epoch[2] Validation-accuracy=0.006313\n",
      "INFO:root:Epoch[3] Train-accuracy=0.059375\n",
      "INFO:root:Epoch[3] Time cost=2.916\n",
      "INFO:root:Epoch[3] Validation-accuracy=0.011111\n",
      "INFO:root:Epoch[4] Train-accuracy=0.068750\n",
      "INFO:root:Epoch[4] Time cost=3.003\n",
      "INFO:root:Epoch[4] Validation-accuracy=0.017677\n",
      "INFO:root:Epoch[5] Train-accuracy=0.084375\n",
      "INFO:root:Epoch[5] Time cost=3.012\n",
      "INFO:root:Epoch[5] Validation-accuracy=0.017424\n",
      "INFO:root:Epoch[6] Train-accuracy=0.134375\n",
      "INFO:root:Epoch[6] Time cost=2.814\n",
      "INFO:root:Epoch[6] Validation-accuracy=0.019444\n",
      "INFO:root:Epoch[7] Train-accuracy=0.137500\n",
      "INFO:root:Epoch[7] Time cost=2.859\n",
      "INFO:root:Epoch[7] Validation-accuracy=0.020707\n"
     ]
    }
   ],
   "source": [
    "train_iter.reset()\n",
    "val_iter.reset()\n",
    "test_iter.reset()\n",
    "\n",
    "get_model('http://data.mxnet.io/models/imagenet/resnet/50-layers/resnet-50', 0)\n",
    "sym, arg_params, aux_params = mx.model.load_checkpoint('resnet-50', 0)\n",
    "\n",
    "(new_sym, new_args) = get_fine_tune_model(sym, arg_params, num_classes)\n",
    "\n",
    "mod_resnet,mod_score = fit(new_sym, new_args, aux_params, train_iter, val_iter, contexts,num_epochs=num_epochs)\n"
   ]
  },
  {
   "cell_type": "markdown",
   "metadata": {},
   "source": [
    "### Test Accuracy of the Pretrained Model"
   ]
  },
  {
   "cell_type": "code",
   "execution_count": 41,
   "metadata": {
    "scrolled": true
   },
   "outputs": [
    {
     "data": {
      "text/plain": [
       "0.7583333333333333"
      ]
     },
     "execution_count": 41,
     "metadata": {},
     "output_type": "execute_result"
    }
   ],
   "source": [
    "prob = mod_resnet.predict(test_iter)\n",
    "top_3_prediction = get_top_n_label_index_prediction(prob.asnumpy(),3,threshold=0.5)\n",
    "predicted_label = get_predicted_label(top_3_prediction)\n",
    "calculate_accuracy(test_label,predicted_label)"
   ]
  },
  {
   "cell_type": "markdown",
   "metadata": {},
   "source": [
    "### Lets save the Model"
   ]
  },
  {
   "cell_type": "code",
   "execution_count": 42,
   "metadata": {},
   "outputs": [
    {
     "name": "stderr",
     "output_type": "stream",
     "text": [
      "INFO:root:Saved checkpoint to \"resnet-model-0000.params\"\n"
     ]
    }
   ],
   "source": [
    "mod_resnet.save_checkpoint(\"resnet-model\",0)"
   ]
  },
  {
   "cell_type": "markdown",
   "metadata": {},
   "source": [
    "# Lets define functions to predict an online image and load already trained model for prediction"
   ]
  },
  {
   "cell_type": "code",
   "execution_count": 43,
   "metadata": {},
   "outputs": [],
   "source": [
    "Batch = namedtuple('Batch', ['data'])\n",
    "\n",
    "def get_image(url, show=False):\n",
    "    # download and show the image\n",
    "    fname = mx.test_utils.download(url)\n",
    "    return fname\n",
    "\n",
    "def preprocess_image_sym(fname):\n",
    "    img = cv2.cvtColor(cv2.imread(fname), cv2.COLOR_BGR2RGB)\n",
    "    if img is None:\n",
    "        return None\n",
    "    # convert into format (batch, RGB, width, height)\n",
    "    img = cv2.resize(img, (64, 64))\n",
    "    plt.imshow(img)\n",
    "    img = np.swapaxes(img, 0, 2)\n",
    "    img = np.swapaxes(img, 1, 2)\n",
    "    img = img[np.newaxis, :]\n",
    "    \n",
    "    return img\n",
    "\n",
    "def preprocess_image_gluon(fname):\n",
    "    img = io.imread(fname)\n",
    "    img = cv2.resize(img, (64, 64))\n",
    "    plt.imshow(img)\n",
    "\n",
    "\n",
    "    if img.shape[2] == 4:\n",
    "        img = rgba2rgb(img)\n",
    "    image = mx.nd.array(img).astype(np.uint8)\n",
    "    image = mx.image.resize_short(image, 256)\n",
    "    plt.imshow(image.asnumpy())\n",
    "    image = mx.image.color_normalize(image.astype(np.float32)/255,\n",
    "                                     mean=mx.nd.array([0.485, 0.456, 0.406]),\n",
    "                                     std=mx.nd.array([0.229, 0.224, 0.225]))\n",
    "    image = mx.nd.transpose(image.astype('float32'), (2,1,0))\n",
    "    image = mx.nd.expand_dims(image, axis=0).as_in_context(contexts[0])\n",
    "    return image\n",
    "\n",
    "def predict_gluon(net, url):\n",
    "    fname = get_image(url)\n",
    "    img = preprocess_image_gluon(fname)\n",
    "    out = mx.nd.SoftmaxActivation(net(img))\n",
    "    prob = out[0].asnumpy()\n",
    "    prob = np.squeeze(prob)\n",
    "    a = np.argsort(prob)[::-1]\n",
    "    for i in a[0:5]:\n",
    "        print('probability=%f, class=%s' %(prob[i], index_to_label([a[i]])))\n",
    "\n",
    "def predict_sym(mod,url):\n",
    "    fname = get_image(url)\n",
    "    img = preprocess_image_sym(fname)\n",
    "    # compute the predict probabilities\n",
    "    mod.forward(Batch([mx.nd.array(img)]))\n",
    "    prob = mod.get_outputs()[0].asnumpy()\n",
    "    # print the top-5\n",
    "    prob = np.squeeze(prob)\n",
    "    a = np.argsort(prob)[::-1]\n",
    "    for i in a[0:5]:\n",
    "        print('probability=%f, class=%s' %(prob[i], index_to_label([a[i]])))\n",
    "        \n",
    "def load_sym_model(pathname):\n",
    "    sym, arg_params, aux_params = mx.model.load_checkpoint(pathname, 0)\n",
    "    mod = mx.mod.Module(symbol=sym, context=contexts, label_names=None)\n",
    "    mod.bind(for_training=False, data_shapes=[('data', (1,3,64,64))], \n",
    "             label_shapes=mod._label_shapes)\n",
    "    mod.set_params(arg_params, aux_params, allow_missing=True)\n",
    "    return mod\n",
    "\n",
    "def load_gluon_model(mod,pathname):\n",
    "    mod.load_params(pathname, mx.gpu())\n",
    "    return mod"
   ]
  },
  {
   "cell_type": "markdown",
   "metadata": {},
   "source": [
    "# Lets load the stored Models"
   ]
  },
  {
   "cell_type": "code",
   "execution_count": 44,
   "metadata": {},
   "outputs": [],
   "source": [
    "mod_mlp = load_sym_model('mlp-model')\n",
    "mod_cnn = load_sym_model('cnn-model')\n",
    "mod_res_sym = load_sym_model('resnet-model')\n",
    "mod_res_gluon = load_gluon_model(mod_resnet_gluon,'resnet-gluon.params')"
   ]
  },
  {
   "cell_type": "markdown",
   "metadata": {},
   "source": [
    "# Lets apply different models and see the output"
   ]
  },
  {
   "cell_type": "code",
   "execution_count": 45,
   "metadata": {},
   "outputs": [],
   "source": [
    "image_url = 'https://i.pinimg.com/736x/30/7a/b3/307ab308010b03eb53696a168a0afc5a--bmw-motorad-bmw-z.jpg'"
   ]
  },
  {
   "cell_type": "markdown",
   "metadata": {},
   "source": [
    "### Use MLP"
   ]
  },
  {
   "cell_type": "code",
   "execution_count": 46,
   "metadata": {},
   "outputs": [
    {
     "name": "stderr",
     "output_type": "stream",
     "text": [
      "DEBUG:urllib3.connectionpool:Starting new HTTPS connection (1): i.pinimg.com\n",
      "DEBUG:urllib3.connectionpool:https://i.pinimg.com:443 \"GET /736x/30/7a/b3/307ab308010b03eb53696a168a0afc5a--bmw-motorad-bmw-z.jpg HTTP/1.1\" 200 51268\n",
      "INFO:root:downloaded https://i.pinimg.com/736x/30/7a/b3/307ab308010b03eb53696a168a0afc5a--bmw-motorad-bmw-z.jpg into 307ab308010b03eb53696a168a0afc5a--bmw-motorad-bmw-z.jpg successfully\n"
     ]
    },
    {
     "name": "stdout",
     "output_type": "stream",
     "text": [
      "probability=0.031713, class=['erdinger']\n",
      "probability=0.031666, class=['HP']\n",
      "probability=0.031644, class=['stellaartois']\n",
      "probability=0.031580, class=['guiness']\n",
      "probability=0.031576, class=['ferrari']\n"
     ]
    },
    {
     "data": {
      "image/png": "[encoded data removed]",
      "text/plain": [
       "<matplotlib.figure.Figure at 0x7f020b2609e8>"
      ]
     },
     "metadata": {},
     "output_type": "display_data"
    }
   ],
   "source": [
    "predict_sym(mod_mlp,image_url)"
   ]
  },
  {
   "cell_type": "markdown",
   "metadata": {},
   "source": [
    "### Use CNN"
   ]
  },
  {
   "cell_type": "code",
   "execution_count": 47,
   "metadata": {},
   "outputs": [
    {
     "name": "stderr",
     "output_type": "stream",
     "text": [
      "INFO:root:307ab308010b03eb53696a168a0afc5a--bmw-motorad-bmw-z.jpg exists, skipping download\n"
     ]
    },
    {
     "name": "stdout",
     "output_type": "stream",
     "text": [
      "probability=0.031714, class=['texaco']\n",
      "probability=0.031605, class=['apple']\n",
      "probability=0.031541, class=['ups']\n",
      "probability=0.031539, class=['heineken']\n",
      "probability=0.031499, class=['singha']\n"
     ]
    },
    {
     "data": {
      "image/png": "[encoded data removed]",
      "text/plain": [
       "<matplotlib.figure.Figure at 0x7f01f2785eb8>"
      ]
     },
     "metadata": {},
     "output_type": "display_data"
    }
   ],
   "source": [
    "predict_sym(mod_cnn,image_url)"
   ]
  },
  {
   "cell_type": "markdown",
   "metadata": {},
   "source": [
    "### Use PRETRAINED MODEL"
   ]
  },
  {
   "cell_type": "markdown",
   "metadata": {},
   "source": [
    "### SYM Model"
   ]
  },
  {
   "cell_type": "code",
   "execution_count": 48,
   "metadata": {},
   "outputs": [
    {
     "name": "stderr",
     "output_type": "stream",
     "text": [
      "INFO:root:307ab308010b03eb53696a168a0afc5a--bmw-motorad-bmw-z.jpg exists, skipping download\n"
     ]
    },
    {
     "name": "stdout",
     "output_type": "stream",
     "text": [
      "probability=0.173611, class=['starbucks']\n",
      "probability=0.122301, class=['nvidia']\n",
      "probability=0.120549, class=['adidas']\n",
      "probability=0.076641, class=['fosters']\n",
      "probability=0.065346, class=['ups']\n"
     ]
    },
    {
     "data": {
      "image/png": "[encoded data removed]",
      "text/plain": [
       "<matplotlib.figure.Figure at 0x7f01f04c5400>"
      ]
     },
     "metadata": {},
     "output_type": "display_data"
    }
   ],
   "source": [
    "predict_sym(mod_res_sym,image_url)"
   ]
  },
  {
   "cell_type": "markdown",
   "metadata": {},
   "source": [
    "### GLUON Model"
   ]
  },
  {
   "cell_type": "code",
   "execution_count": 49,
   "metadata": {},
   "outputs": [
    {
     "name": "stderr",
     "output_type": "stream",
     "text": [
      "INFO:root:307ab308010b03eb53696a168a0afc5a--bmw-motorad-bmw-z.jpg exists, skipping download\n"
     ]
    },
    {
     "name": "stdout",
     "output_type": "stream",
     "text": [
      "probability=1.000000, class=['adidas']\n",
      "probability=0.000000, class=['HP']\n",
      "probability=0.000000, class=['texaco']\n",
      "probability=0.000000, class=['ups']\n",
      "probability=0.000000, class=['tsingtao']\n"
     ]
    },
    {
     "data": {
      "image/png": "[encoded data removed]",
      "text/plain": [
       "<matplotlib.figure.Figure at 0x7f0208039128>"
      ]
     },
     "metadata": {},
     "output_type": "display_data"
    }
   ],
   "source": [
    "predict_gluon(mod_resnet_gluon,image_url)"
   ]
  }
 ],
 "metadata": {
  "kernelspec": {
   "display_name": "Python 3",
   "language": "python",
   "name": "python3"
  },
  "language_info": {
   "codemirror_mode": {
    "name": "ipython",
    "version": 3
   },
   "file_extension": ".py",
   "mimetype": "text/x-python",
   "name": "python",
   "nbconvert_exporter": "python",
   "pygments_lexer": "ipython3",
   "version": "3.5.2"
  }
 },
 "nbformat": 4,
 "nbformat_minor": 2
}
