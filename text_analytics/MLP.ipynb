{
 "cells": [
  {
   "cell_type": "code",
   "execution_count": 1,
   "metadata": {
    "scrolled": false
   },
   "outputs": [],
   "source": [
    "import mxnet as mx\n",
    "from mxnet import nd\n",
    "from mxnet import autograd\n",
    "from mxnet import gluon\n",
    "import numpy as np"
   ]
  },
  {
   "cell_type": "code",
   "execution_count": 2,
   "metadata": {},
   "outputs": [],
   "source": [
    "ctx = mx.cpu()"
   ]
  },
  {
   "cell_type": "code",
   "execution_count": 3,
   "metadata": {},
   "outputs": [],
   "source": [
    "import json\n",
    "\n",
    "with open(\"./data/train_data_50000.json\") as json_data:\n",
    "    train_data = json.load(fp=json_data)\n",
    "    \n",
    "with open(\"./data/test_data_50000.json\") as json_data:\n",
    "    test_data = json.load(fp=json_data)\n",
    "\n",
    "train_X = np.array(train_data['data'])\n",
    "train_Y = np.array(train_data['label'])\n",
    "\n",
    "test_X = np.array(test_data['data'])\n",
    "test_Y = np.array(test_data['label'])"
   ]
  },
  {
   "cell_type": "code",
   "execution_count": 4,
   "metadata": {},
   "outputs": [],
   "source": [
    "batch_size = 200\n",
    "num_inputs = 64\n",
    "num_outputs = 2\n",
    "train_data = mx.io.NDArrayIter(train_X,train_Y ,\n",
    "                               batch_size, shuffle=True)\n",
    "test_data = mx.io.NDArrayIter(test_X, test_Y,\n",
    "                               batch_size, shuffle=True)"
   ]
  },
  {
   "cell_type": "code",
   "execution_count": 5,
   "metadata": {},
   "outputs": [],
   "source": [
    "num_hidden = 256\n",
    "net = gluon.nn.Sequential()\n",
    "with net.name_scope():\n",
    "    net.add(gluon.nn.Dense(num_hidden, activation=\"relu\"))\n",
    "    net.add(gluon.nn.Dense(num_hidden, activation=\"relu\"))\n",
    "    net.add(gluon.nn.Dense(num_outputs))"
   ]
  },
  {
   "cell_type": "code",
   "execution_count": 6,
   "metadata": {},
   "outputs": [],
   "source": [
    "net.collect_params().initialize(mx.init.Xavier(magnitude=2.24), ctx=ctx)"
   ]
  },
  {
   "cell_type": "code",
   "execution_count": 7,
   "metadata": {},
   "outputs": [],
   "source": [
    "loss = gluon.loss.SoftmaxCrossEntropyLoss()"
   ]
  },
  {
   "cell_type": "code",
   "execution_count": 8,
   "metadata": {},
   "outputs": [],
   "source": [
    "trainer = gluon.Trainer(net.collect_params(), 'sgd', {'learning_rate': .1})\n"
   ]
  },
  {
   "cell_type": "code",
   "execution_count": 9,
   "metadata": {},
   "outputs": [],
   "source": [
    "def evaluate_accuracy(data_iterator, net):\n",
    "    acc = mx.metric.Accuracy()\n",
    "    data_iterator.reset()\n",
    "    for i, batch in enumerate(data_iterator):\n",
    "        data = batch.data[0].as_in_context(ctx)\n",
    "        label = batch.label[0].as_in_context(ctx)\n",
    "        output = net(data)\n",
    "        predictions = nd.argmax(output, axis=1)\n",
    "        acc.update(preds=predictions, labels=label)\n",
    "    return acc.get()[1]"
   ]
  },
  {
   "cell_type": "code",
   "execution_count": 10,
   "metadata": {},
   "outputs": [
    {
     "name": "stdout",
     "output_type": "stream",
     "text": [
      "Epoch 0. Loss: 0.679267438143, Train_acc 0.6005, Val_acc 0.53262\n",
      "Epoch 1. Loss: 0.666664345602, Train_acc 0.60732, Val_acc 0.53188\n",
      "Epoch 2. Loss: 0.662091931207, Train_acc 0.6122, Val_acc 0.53248\n",
      "Epoch 3. Loss: 0.658314183439, Train_acc 0.61658, Val_acc 0.53356\n",
      "Epoch 4. Loss: 0.654410905468, Train_acc 0.62134, Val_acc 0.53532\n",
      "Epoch 5. Loss: 0.650156286175, Train_acc 0.62686, Val_acc 0.53798\n",
      "Epoch 6. Loss: 0.645669647083, Train_acc 0.63328, Val_acc 0.54122\n",
      "Epoch 7. Loss: 0.641047437192, Train_acc 0.63826, Val_acc 0.54448\n",
      "Epoch 8. Loss: 0.636384127089, Train_acc 0.6437, Val_acc 0.54886\n",
      "Epoch 9. Loss: 0.631705665613, Train_acc 0.64954, Val_acc 0.55512\n",
      "Epoch 10. Loss: 0.627166296163, Train_acc 0.65538, Val_acc 0.56102\n",
      "Epoch 11. Loss: 0.62278748654, Train_acc 0.6603, Val_acc 0.56448\n",
      "Epoch 12. Loss: 0.61852692226, Train_acc 0.66576, Val_acc 0.56918\n",
      "Epoch 13. Loss: 0.614427657235, Train_acc 0.67096, Val_acc 0.57396\n",
      "Epoch 14. Loss: 0.610358259661, Train_acc 0.67616, Val_acc 0.57676\n",
      "Epoch 15. Loss: 0.606508814812, Train_acc 0.68026, Val_acc 0.57896\n",
      "Epoch 16. Loss: 0.602785802827, Train_acc 0.68442, Val_acc 0.58042\n",
      "Epoch 17. Loss: 0.599224072397, Train_acc 0.68862, Val_acc 0.58142\n",
      "Epoch 18. Loss: 0.595755931387, Train_acc 0.69232, Val_acc 0.58394\n",
      "Epoch 19. Loss: 0.592247184268, Train_acc 0.6971, Val_acc 0.58566\n",
      "Epoch 20. Loss: 0.588898026635, Train_acc 0.7005, Val_acc 0.58646\n",
      "Epoch 21. Loss: 0.585546074006, Train_acc 0.70446, Val_acc 0.58824\n",
      "Epoch 22. Loss: 0.582177815568, Train_acc 0.70774, Val_acc 0.58912\n",
      "Epoch 23. Loss: 0.578776295381, Train_acc 0.71074, Val_acc 0.58918\n",
      "Epoch 24. Loss: 0.575377024535, Train_acc 0.71412, Val_acc 0.5902\n",
      "Epoch 25. Loss: 0.571914548289, Train_acc 0.7188, Val_acc 0.5896\n",
      "Epoch 26. Loss: 0.568508646237, Train_acc 0.7222, Val_acc 0.59034\n",
      "Epoch 27. Loss: 0.565022400401, Train_acc 0.72516, Val_acc 0.59064\n",
      "Epoch 28. Loss: 0.56162540815, Train_acc 0.72788, Val_acc 0.59076\n",
      "Epoch 29. Loss: 0.558163858965, Train_acc 0.73098, Val_acc 0.59026\n",
      "Epoch 30. Loss: 0.55467910731, Train_acc 0.73362, Val_acc 0.59006\n",
      "Epoch 31. Loss: 0.551616037669, Train_acc 0.73688, Val_acc 0.58966\n",
      "Epoch 32. Loss: 0.547961252949, Train_acc 0.73994, Val_acc 0.58936\n",
      "Epoch 33. Loss: 0.544450814177, Train_acc 0.74348, Val_acc 0.58872\n",
      "Epoch 34. Loss: 0.54104408734, Train_acc 0.74732, Val_acc 0.58908\n",
      "Epoch 35. Loss: 0.537359665351, Train_acc 0.7503, Val_acc 0.5882\n",
      "Epoch 36. Loss: 0.533134518012, Train_acc 0.75366, Val_acc 0.58806\n",
      "Epoch 37. Loss: 0.527136146622, Train_acc 0.75018, Val_acc 0.58898\n",
      "Epoch 38. Loss: 0.528942236025, Train_acc 0.7588, Val_acc 0.58708\n",
      "Epoch 39. Loss: 0.522079811475, Train_acc 0.76152, Val_acc 0.5877\n"
     ]
    }
   ],
   "source": [
    "epochs = 40\n",
    "moving_loss = 0.\n",
    "\n",
    "for e in range(epochs):\n",
    "    train_data.reset()\n",
    "    for i, batch in enumerate(train_data):\n",
    "        data = batch.data[0].as_in_context(ctx)\n",
    "        label = batch.label[0].as_in_context(ctx)\n",
    "        with autograd.record():\n",
    "            output = net(data)\n",
    "            cross_entropy = loss(output, label)\n",
    "            cross_entropy.backward()\n",
    "        trainer.step(data.shape[0])\n",
    "        if i == 0:\n",
    "            moving_loss = nd.mean(cross_entropy).asscalar()\n",
    "        else:\n",
    "            moving_loss = .99 * moving_loss + .01 * nd.mean(cross_entropy).asscalar()\n",
    "\n",
    "    test_accuracy = evaluate_accuracy(test_data, net)\n",
    "    train_accuracy = evaluate_accuracy(train_data, net)\n",
    "    print(\"Epoch %s. Loss: %s, Train_acc %s, Val_acc %s\" %\n",
    "          (e, moving_loss, train_accuracy, test_accuracy))"
   ]
  },
  {
   "cell_type": "code",
   "execution_count": null,
   "metadata": {},
   "outputs": [],
   "source": []
  }
 ],
 "metadata": {
  "kernelspec": {
   "display_name": "Python 3",
   "language": "python",
   "name": "python3"
  },
  "language_info": {
   "codemirror_mode": {
    "name": "ipython",
    "version": 3
   },
   "file_extension": ".py",
   "mimetype": "text/x-python",
   "name": "python",
   "nbconvert_exporter": "python",
   "pygments_lexer": "ipython3",
   "version": "3.6.2"
  }
 },
 "nbformat": 4,
 "nbformat_minor": 2
}
