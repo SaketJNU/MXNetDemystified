{
 "cells": [
  {
   "cell_type": "code",
   "execution_count": 1,
   "metadata": {},
   "outputs": [],
   "source": [
    "from __future__ import print_function\n",
    "import mxnet as mx\n",
    "from mxnet import nd, autograd\n",
    "from mxnet import gluon\n",
    "import numpy as np\n",
    "mx.random.seed(1)"
   ]
  },
  {
   "cell_type": "code",
   "execution_count": 2,
   "metadata": {},
   "outputs": [],
   "source": [
    "ctx = mx.cpu()\n"
   ]
  },
  {
   "cell_type": "code",
   "execution_count": 3,
   "metadata": {},
   "outputs": [],
   "source": [
    "import json\n",
    "\n",
    "with open(\"./data/train_data_50000.json\") as json_data:\n",
    "    train_data = json.load(fp=json_data)\n",
    "    \n",
    "with open(\"./data/test_data_50000.json\") as json_data:\n",
    "    test_data = json.load(fp=json_data)\n",
    "\n",
    "train_X = np.array(train_data['data'])\n",
    "train_Y = np.array(train_data['label'])\n",
    "\n",
    "test_X = np.array(test_data['data'])\n",
    "test_Y = np.array(test_data['label'])"
   ]
  },
  {
   "cell_type": "code",
   "execution_count": 4,
   "metadata": {},
   "outputs": [],
   "source": [
    "train_X = train_X.reshape(50000,1,8,8)\n",
    "test_X = test_X.reshape(50000,1,8,8)\n"
   ]
  },
  {
   "cell_type": "code",
   "execution_count": 5,
   "metadata": {},
   "outputs": [],
   "source": [
    "#mnist = mx.test_utils.get_mnist()\n",
    "batch_size = 200\n",
    "num_inputs = 64\n",
    "num_outputs = 2\n",
    "train_data = mx.io.NDArrayIter(train_X, train_Y,\n",
    "                               batch_size, shuffle=True)\n",
    "test_data = mx.io.NDArrayIter(test_X, test_Y,\n",
    "                               batch_size, shuffle=True)"
   ]
  },
  {
   "cell_type": "code",
   "execution_count": 6,
   "metadata": {},
   "outputs": [],
   "source": [
    "net = gluon.nn.Sequential()\n",
    "with net.name_scope():\n",
    "    net.add(gluon.nn.Conv2D(channels=20, kernel_size=2, activation='relu'))\n",
    "    net.add(gluon.nn.MaxPool2D(pool_size=2, strides=2))            \n",
    "    net.add(gluon.nn.Conv2D(channels=20, kernel_size=2, activation='relu'))\n",
    "    net.add(gluon.nn.MaxPool2D(pool_size=2, strides=2))            \n",
    "    net.add(gluon.nn.Flatten())\n",
    "    net.add(gluon.nn.Dense(50, activation=\"relu\"))\n",
    "    net.add(gluon.nn.Dense(num_outputs))"
   ]
  },
  {
   "cell_type": "code",
   "execution_count": 7,
   "metadata": {},
   "outputs": [],
   "source": [
    "net.collect_params().initialize(mx.init.Xavier(magnitude=2.24), ctx=ctx)"
   ]
  },
  {
   "cell_type": "code",
   "execution_count": 8,
   "metadata": {},
   "outputs": [],
   "source": [
    "softmax_cross_entropy = gluon.loss.SoftmaxCrossEntropyLoss()"
   ]
  },
  {
   "cell_type": "code",
   "execution_count": 9,
   "metadata": {},
   "outputs": [],
   "source": [
    "trainer = gluon.Trainer(net.collect_params(), 'sgd', {'learning_rate': .1})"
   ]
  },
  {
   "cell_type": "code",
   "execution_count": 10,
   "metadata": {},
   "outputs": [],
   "source": [
    "\n",
    "def evaluate_accuracy(data_iterator, net):\n",
    "    acc = mx.metric.Accuracy()\n",
    "    data_iterator.reset()\n",
    "    for i, batch in enumerate(data_iterator):\n",
    "        data = batch.data[0].as_in_context(ctx)\n",
    "        label = batch.label[0].as_in_context(ctx)\n",
    "        output = net(data)\n",
    "        predictions = nd.argmax(output, axis=1)\n",
    "        acc.update(preds=predictions, labels=label)\n",
    "    return acc.get()[1]"
   ]
  },
  {
   "cell_type": "code",
   "execution_count": 11,
   "metadata": {},
   "outputs": [
    {
     "name": "stdout",
     "output_type": "stream",
     "text": [
      "Epoch 0. Loss: 0.692594754921, Train_acc 0.52782, Test_acc 0.50966\n",
      "Epoch 1. Loss: 0.691368245732, Train_acc 0.53114, Test_acc 0.50542\n",
      "Epoch 2. Loss: 0.69062504942, Train_acc 0.53294, Test_acc 0.50394\n",
      "Epoch 3. Loss: 0.690105664434, Train_acc 0.53594, Test_acc 0.50374\n",
      "Epoch 4. Loss: 0.689646836355, Train_acc 0.53846, Test_acc 0.50418\n",
      "Epoch 5. Loss: 0.689192030216, Train_acc 0.54204, Test_acc 0.50494\n",
      "Epoch 6. Loss: 0.688704371279, Train_acc 0.54454, Test_acc 0.50522\n",
      "Epoch 7. Loss: 0.688128962913, Train_acc 0.54708, Test_acc 0.50648\n",
      "Epoch 8. Loss: 0.687421714543, Train_acc 0.54966, Test_acc 0.50986\n",
      "Epoch 9. Loss: 0.686651458131, Train_acc 0.55242, Test_acc 0.51234\n",
      "Epoch 10. Loss: 0.685820709168, Train_acc 0.55432, Test_acc 0.51496\n",
      "Epoch 11. Loss: 0.685011139031, Train_acc 0.555, Test_acc 0.518\n",
      "Epoch 12. Loss: 0.684211759323, Train_acc 0.55802, Test_acc 0.52038\n",
      "Epoch 13. Loss: 0.683462451476, Train_acc 0.5597, Test_acc 0.52158\n",
      "Epoch 14. Loss: 0.682668921907, Train_acc 0.56136, Test_acc 0.52438\n",
      "Epoch 15. Loss: 0.681927924993, Train_acc 0.56208, Test_acc 0.52562\n",
      "Epoch 16. Loss: 0.68128353287, Train_acc 0.56354, Test_acc 0.52752\n",
      "Epoch 17. Loss: 0.680649223415, Train_acc 0.56472, Test_acc 0.52864\n",
      "Epoch 18. Loss: 0.680080402281, Train_acc 0.56666, Test_acc 0.53042\n",
      "Epoch 19. Loss: 0.679540026529, Train_acc 0.56776, Test_acc 0.53108\n",
      "Epoch 20. Loss: 0.678998264604, Train_acc 0.56838, Test_acc 0.5313\n",
      "Epoch 21. Loss: 0.678467260301, Train_acc 0.56914, Test_acc 0.53274\n",
      "Epoch 22. Loss: 0.677949881152, Train_acc 0.56986, Test_acc 0.53386\n",
      "Epoch 23. Loss: 0.677507284085, Train_acc 0.57114, Test_acc 0.5358\n",
      "Epoch 24. Loss: 0.676983187283, Train_acc 0.5717, Test_acc 0.5364\n",
      "Epoch 25. Loss: 0.676512183741, Train_acc 0.57138, Test_acc 0.5374\n",
      "Epoch 26. Loss: 0.675972264327, Train_acc 0.5725, Test_acc 0.53832\n",
      "Epoch 27. Loss: 0.675462411622, Train_acc 0.57348, Test_acc 0.53884\n",
      "Epoch 28. Loss: 0.674994095283, Train_acc 0.57278, Test_acc 0.54064\n",
      "Epoch 29. Loss: 0.674522522848, Train_acc 0.57378, Test_acc 0.5414\n",
      "Epoch 30. Loss: 0.673967703213, Train_acc 0.57392, Test_acc 0.54238\n",
      "Epoch 31. Loss: 0.673427768797, Train_acc 0.57542, Test_acc 0.54398\n",
      "Epoch 32. Loss: 0.672958683655, Train_acc 0.57646, Test_acc 0.5436\n",
      "Epoch 33. Loss: 0.672551777534, Train_acc 0.57738, Test_acc 0.54416\n",
      "Epoch 34. Loss: 0.672122092858, Train_acc 0.57762, Test_acc 0.54594\n",
      "Epoch 35. Loss: 0.671634394425, Train_acc 0.57744, Test_acc 0.54664\n",
      "Epoch 36. Loss: 0.671166341975, Train_acc 0.5786, Test_acc 0.54614\n",
      "Epoch 37. Loss: 0.670765887896, Train_acc 0.5796, Test_acc 0.54646\n",
      "Epoch 38. Loss: 0.670353522825, Train_acc 0.58038, Test_acc 0.547\n",
      "Epoch 39. Loss: 0.669926422802, Train_acc 0.5813, Test_acc 0.54768\n"
     ]
    }
   ],
   "source": [
    "epochs = 40\n",
    "smoothing_constant = .01\n",
    "\n",
    "for e in range(epochs):\n",
    "    train_data.reset()\n",
    "    for i, batch in enumerate(train_data):\n",
    "        data = batch.data[0].as_in_context(ctx)\n",
    "        label = batch.label[0].as_in_context(ctx)\n",
    "        with autograd.record():\n",
    "            output = net(data)\n",
    "            loss = softmax_cross_entropy(output, label)\n",
    "        loss.backward()\n",
    "        trainer.step(data.shape[0])\n",
    "        curr_loss = nd.mean(loss).asscalar()\n",
    "        moving_loss = (curr_loss if ((i == 0) and (e == 0)) \n",
    "                       else (1 - smoothing_constant) * moving_loss + (smoothing_constant) * curr_loss)\n",
    "        \n",
    "    test_accuracy = evaluate_accuracy(test_data, net)\n",
    "    train_accuracy = evaluate_accuracy(train_data, net)\n",
    "    print(\"Epoch %s. Loss: %s, Train_acc %s, Val_acc %s\" % (e, moving_loss, train_accuracy, test_accuracy))"
   ]
  }
 ],
 "metadata": {
  "kernelspec": {
   "display_name": "Python 3",
   "language": "python",
   "name": "python3"
  },
  "language_info": {
   "codemirror_mode": {
    "name": "ipython",
    "version": 3
   },
   "file_extension": ".py",
   "mimetype": "text/x-python",
   "name": "python",
   "nbconvert_exporter": "python",
   "pygments_lexer": "ipython3",
   "version": "3.6.2"
  }
 },
 "nbformat": 4,
 "nbformat_minor": 2
}
